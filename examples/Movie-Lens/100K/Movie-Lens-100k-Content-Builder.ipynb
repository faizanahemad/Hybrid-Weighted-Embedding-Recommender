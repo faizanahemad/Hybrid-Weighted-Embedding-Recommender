{
 "cells": [
  {
   "cell_type": "code",
   "execution_count": 1,
   "metadata": {
    "ExecuteTime": {
     "end_time": "2020-01-20T09:12:49.511507Z",
     "start_time": "2020-01-20T09:12:49.500258Z"
    }
   },
   "outputs": [],
   "source": [
    "from IPython.core.interactiveshell import InteractiveShell\n",
    "from IPython.display import display, HTML\n",
    "InteractiveShell.ast_node_interactivity = \"all\"\n",
    "%config InlineBackend.figure_format='retina'\n",
    "\n",
    "import warnings\n",
    "warnings.filterwarnings('ignore')"
   ]
  },
  {
   "cell_type": "code",
   "execution_count": 27,
   "metadata": {
    "ExecuteTime": {
     "end_time": "2020-01-20T17:07:01.352651Z",
     "start_time": "2020-01-20T17:07:00.970250Z"
    }
   },
   "outputs": [],
   "source": [
    "import tmdbsimple as tmdb\n",
    "tmdb.API_KEY = '08d3df3441c114a6cdb87682cb5b8013'\n",
    "\n",
    "from editdistance import eval as editdistance\n",
    "\n",
    "from surprise import Dataset\n",
    "from surprise import accuracy\n",
    "import numpy as np\n",
    "import time\n",
    "import pandas as pd\n",
    "from pathlib import Path\n",
    "from surprise.model_selection import train_test_split\n",
    "data = Dataset.load_builtin('ml-100k')\n",
    "trainset, testset = train_test_split(data, test_size=.25)\n",
    "from tqdm import tqdm,tqdm_notebook\n",
    "from joblib import Parallel, delayed\n",
    "import os\n",
    "import re\n",
    "\n",
    "from hwer.utils import clean_text"
   ]
  },
  {
   "cell_type": "code",
   "execution_count": 12,
   "metadata": {
    "ExecuteTime": {
     "end_time": "2020-01-20T16:43:55.320776Z",
     "start_time": "2020-01-20T16:43:54.957081Z"
    }
   },
   "outputs": [
    {
     "name": "stdout",
     "output_type": "stream",
     "text": [
      "/Users/ahemf/mygit/Hybrid-Weighted-Embedding-Recommender/examples/Movie-Lens\n"
     ]
    }
   ],
   "source": [
    "%cd ..\n",
    "\n",
    "import movielens_torch as movielens"
   ]
  },
  {
   "cell_type": "code",
   "execution_count": 14,
   "metadata": {
    "ExecuteTime": {
     "end_time": "2020-01-20T16:47:25.759239Z",
     "start_time": "2020-01-20T16:47:25.748640Z"
    }
   },
   "outputs": [
    {
     "data": {
      "text/plain": [
       "'/Users/ahemf/mygit/Hybrid-Weighted-Embedding-Recommender/examples'"
      ]
     },
     "execution_count": 14,
     "metadata": {},
     "output_type": "execute_result"
    }
   ],
   "source": [
    "from inspect import getsourcefile\n",
    "import os.path as path, sys\n",
    "current_dir = path.dirname(path.abspath(getsourcefile(lambda:0)))\n",
    "sys.path.insert(0, current_dir[:current_dir.rfind(path.sep)])\n",
    "import movielens_torch as movielens\n",
    "sys.path.pop(0)"
   ]
  },
  {
   "cell_type": "code",
   "execution_count": 24,
   "metadata": {
    "ExecuteTime": {
     "end_time": "2020-01-20T17:05:17.155971Z",
     "start_time": "2020-01-20T17:05:17.149283Z"
    }
   },
   "outputs": [],
   "source": [
    "genre_names = np.array([\"unknown\", \"action\", \"adventure\", \"animation\",\n",
    "                   \"children\", \"comedy\", \"crime\", \"documentary\", \"drama\", \"fantasy\",\n",
    "                   \"film-noir\", \"horror\", \"musical\", \"mystery\", \"romance\", \"sci-fi\",\n",
    "                   \"thriller\", \"war\", \"western\" ])\n"
   ]
  },
  {
   "cell_type": "code",
   "execution_count": 174,
   "metadata": {
    "ExecuteTime": {
     "end_time": "2020-01-21T07:32:55.027974Z",
     "start_time": "2020-01-21T07:32:54.946279Z"
    }
   },
   "outputs": [],
   "source": [
    "def ml100k_default_reader(directory):\n",
    "    def read_user_line(l):\n",
    "        id_, age, gender, occupation, zip_ = l.strip().split('|')\n",
    "        age = np.searchsorted([10, 20, 30, 40, 50, 60], age)  # bin the ages into <20, 20-30, 30-40, ..., >60\n",
    "        return {'id': int(id_), 'gender': gender, 'age': age, 'occupation': occupation, 'zip': zip_}\n",
    "\n",
    "    def read_product_line(l):\n",
    "        fields = l.strip().split('|')\n",
    "        id_ = fields[0]\n",
    "        title = fields[1]\n",
    "        genres = fields[-19:]\n",
    "        genres = list(map(int, genres))\n",
    "        genres = np.array(list(map(bool, genres)))\n",
    "        genres = genre_names[genres]\n",
    "\n",
    "        # extract year\n",
    "        if re.match(r'.*\\([0-9]{4}\\)$', title):\n",
    "            year = title[-5:-1]\n",
    "            title = title[:-6].strip()\n",
    "        else:\n",
    "            year = 0\n",
    "\n",
    "        data = {'id': int(id_), 'title': title, 'year': year, 'genres': genres}\n",
    "        return data\n",
    "\n",
    "    def read_rating_line(l):\n",
    "        user_id, product_id, rating, timestamp = l.split()\n",
    "        return {'user_id': int(user_id), 'product_id': int(product_id), 'rating': float(rating),\n",
    "                'timestamp': int(timestamp)}\n",
    "\n",
    "    users = []\n",
    "    products = []\n",
    "    ratings = []\n",
    "\n",
    "    # read ratings\n",
    "    with open(os.path.join(directory, 'ua.base')) as f:\n",
    "        for l in f:\n",
    "            rating = read_rating_line(l)\n",
    "            ratings.append(rating)\n",
    "    with open(os.path.join(directory, 'ua.test')) as f:\n",
    "        for l in f:\n",
    "            rating = read_rating_line(l)\n",
    "            ratings.append(rating)\n",
    "\n",
    "    ratings = pd.DataFrame(ratings)\n",
    "    product_count = ratings['product_id'].value_counts()\n",
    "    product_count.name = 'product_count'\n",
    "    ratings = ratings.join(product_count, on='product_id')\n",
    "\n",
    "    # read users - if user feature does not exist, we find all unique user IDs\n",
    "    # appeared in the rating table and create an empty table from that.\n",
    "    user_file = os.path.join(directory, 'u.user')\n",
    "    with open(user_file) as f:\n",
    "        for l in f:\n",
    "            users.append(read_user_line(l))\n",
    "    users = pd.DataFrame(users).astype('category')\n",
    "\n",
    "    # read products\n",
    "    with open(os.path.join(directory, 'u.item'), encoding='latin1') as f:\n",
    "        for l in f:\n",
    "            products.append(read_product_line(l))\n",
    "    products = (\n",
    "        pd.DataFrame(products)\n",
    "            .astype({'year': 'category'}))\n",
    "    genres = products.columns[products.dtypes == bool]\n",
    "    return users, products, ratings"
   ]
  },
  {
   "cell_type": "code",
   "execution_count": 175,
   "metadata": {
    "ExecuteTime": {
     "end_time": "2020-01-21T07:32:58.947751Z",
     "start_time": "2020-01-21T07:32:58.342542Z"
    }
   },
   "outputs": [],
   "source": [
    "users, products, ratings = ml100k_default_reader(\"100K/ml-100k\")"
   ]
  },
  {
   "cell_type": "code",
   "execution_count": 84,
   "metadata": {
    "ExecuteTime": {
     "end_time": "2020-01-20T17:21:53.326731Z",
     "start_time": "2020-01-20T17:21:53.322963Z"
    }
   },
   "outputs": [],
   "source": [
    "movies = products"
   ]
  },
  {
   "cell_type": "code",
   "execution_count": 85,
   "metadata": {
    "ExecuteTime": {
     "end_time": "2020-01-20T17:21:53.785551Z",
     "start_time": "2020-01-20T17:21:53.767259Z"
    }
   },
   "outputs": [
    {
     "data": {
      "text/html": [
       "<div>\n",
       "<style scoped>\n",
       "    .dataframe tbody tr th:only-of-type {\n",
       "        vertical-align: middle;\n",
       "    }\n",
       "\n",
       "    .dataframe tbody tr th {\n",
       "        vertical-align: top;\n",
       "    }\n",
       "\n",
       "    .dataframe thead th {\n",
       "        text-align: right;\n",
       "    }\n",
       "</style>\n",
       "<table border=\"1\" class=\"dataframe\">\n",
       "  <thead>\n",
       "    <tr style=\"text-align: right;\">\n",
       "      <th></th>\n",
       "      <th>id</th>\n",
       "      <th>title</th>\n",
       "      <th>year</th>\n",
       "      <th>genres</th>\n",
       "    </tr>\n",
       "  </thead>\n",
       "  <tbody>\n",
       "    <tr>\n",
       "      <th>0</th>\n",
       "      <td>1</td>\n",
       "      <td>Toy Story</td>\n",
       "      <td>1995</td>\n",
       "      <td>[animation, children, comedy]</td>\n",
       "    </tr>\n",
       "    <tr>\n",
       "      <th>1</th>\n",
       "      <td>2</td>\n",
       "      <td>GoldenEye</td>\n",
       "      <td>1995</td>\n",
       "      <td>[action, adventure, thriller]</td>\n",
       "    </tr>\n",
       "    <tr>\n",
       "      <th>2</th>\n",
       "      <td>3</td>\n",
       "      <td>Four Rooms</td>\n",
       "      <td>1995</td>\n",
       "      <td>[thriller]</td>\n",
       "    </tr>\n",
       "    <tr>\n",
       "      <th>3</th>\n",
       "      <td>4</td>\n",
       "      <td>Get Shorty</td>\n",
       "      <td>1995</td>\n",
       "      <td>[action, comedy, drama]</td>\n",
       "    </tr>\n",
       "    <tr>\n",
       "      <th>4</th>\n",
       "      <td>5</td>\n",
       "      <td>Copycat</td>\n",
       "      <td>1995</td>\n",
       "      <td>[crime, drama, thriller]</td>\n",
       "    </tr>\n",
       "  </tbody>\n",
       "</table>\n",
       "</div>"
      ],
      "text/plain": [
       "   id       title  year                         genres\n",
       "0   1   Toy Story  1995  [animation, children, comedy]\n",
       "1   2   GoldenEye  1995  [action, adventure, thriller]\n",
       "2   3  Four Rooms  1995                     [thriller]\n",
       "3   4  Get Shorty  1995        [action, comedy, drama]\n",
       "4   5     Copycat  1995       [crime, drama, thriller]"
      ]
     },
     "execution_count": 85,
     "metadata": {},
     "output_type": "execute_result"
    }
   ],
   "source": [
    "products.head()"
   ]
  },
  {
   "cell_type": "code",
   "execution_count": 86,
   "metadata": {
    "ExecuteTime": {
     "end_time": "2020-01-20T17:21:56.009721Z",
     "start_time": "2020-01-20T17:21:55.980589Z"
    }
   },
   "outputs": [
    {
     "data": {
      "text/plain": [
       "0"
      ]
     },
     "execution_count": 86,
     "metadata": {},
     "output_type": "execute_result"
    },
    {
     "data": {
      "text/plain": [
       "0"
      ]
     },
     "execution_count": 86,
     "metadata": {},
     "output_type": "execute_result"
    },
    {
     "data": {
      "text/plain": [
       "0"
      ]
     },
     "execution_count": 86,
     "metadata": {},
     "output_type": "execute_result"
    }
   ],
   "source": [
    "np.sum(movies.title.isna())\n",
    "np.sum(movies.year.isna())\n",
    "np.sum(movies.title.apply(len)==0)\n"
   ]
  },
  {
   "cell_type": "code",
   "execution_count": 176,
   "metadata": {
    "ExecuteTime": {
     "end_time": "2020-01-21T07:33:04.097150Z",
     "start_time": "2020-01-21T07:33:03.493365Z"
    }
   },
   "outputs": [],
   "source": [
    "users.to_csv(\"users.csv\", sep=\"\\t\", index=False)\n",
    "ratings.to_csv(\"ratings.csv\", sep=\"\\t\", index=False)"
   ]
  },
  {
   "cell_type": "markdown",
   "metadata": {},
   "source": [
    "## Enhancing item features with TMDB"
   ]
  },
  {
   "cell_type": "code",
   "execution_count": 88,
   "metadata": {
    "ExecuteTime": {
     "end_time": "2020-01-20T17:22:02.635490Z",
     "start_time": "2020-01-20T17:22:02.625498Z"
    }
   },
   "outputs": [],
   "source": [
    "import re\n",
    "\n",
    "def clean_text(text):\n",
    "    EMPTY = ' '\n",
    "    if text is None:\n",
    "        return EMPTY\n",
    "    \n",
    "    text = text.replace(\"\\n\", \" \").replace(\"(\", \" \").replace(\")\", \" \").replace(\"\\r\", \" \").replace(\"\\t\", \" \").lower()\n",
    "    text = re.sub('<pre><code>.*?</code></pre>', EMPTY, text)\n",
    "    text = re.sub('<code>.*?</code>', EMPTY, text)\n",
    "\n",
    "    def replace_link(match):\n",
    "        return EMPTY if re.match('[a-z]+://', match.group(1)) else match.group(1)\n",
    "\n",
    "    text = re.sub('<a[^>]+>(.*)</a>', replace_link, text)\n",
    "    text = re.sub('<.*?>', EMPTY, text)\n",
    "    return text"
   ]
  },
  {
   "cell_type": "code",
   "execution_count": 108,
   "metadata": {
    "ExecuteTime": {
     "end_time": "2020-01-20T18:41:57.158376Z",
     "start_time": "2020-01-20T18:41:57.122661Z"
    }
   },
   "outputs": [],
   "source": [
    "def get_movie_details_from_tmdb(movie_id, title, year):\n",
    "    year = int(year)\n",
    "    \n",
    "    search = tmdb.Search()\n",
    "    response = search.movie(query=title)\n",
    "    results = response['results']\n",
    "    \n",
    "    if len(results) == 0:\n",
    "        tn = title.split(\",\")[0]\n",
    "        search = tmdb.Search()\n",
    "        response = search.movie(query=tn)\n",
    "        results = response['results']\n",
    "        \n",
    "    if len(results) == 0:\n",
    "        tn = title.split(\":\")[0]\n",
    "        search = tmdb.Search()\n",
    "        response = search.movie(query=tn)\n",
    "        results = response['results']\n",
    "        \n",
    "    if len(results) == 0:\n",
    "        tn = title.split(\"(\")[0]\n",
    "        search = tmdb.Search()\n",
    "        response = search.movie(query=tn)\n",
    "        results = response['results']\n",
    "        \n",
    "    if len(results) == 0:\n",
    "        search = tmdb.Search()\n",
    "        response = search.tv(query=title)\n",
    "        results = response['results']\n",
    "    \n",
    "    \n",
    "    \n",
    "    from functools import cmp_to_key\n",
    "    def cmp(m1, m2):\n",
    "        edst_1 = editdistance(title.lower(), m1['title'].lower())\n",
    "        edst_2 = editdistance(title.lower(), m2['title'].lower())\n",
    "        if 'release_date' not in m1:\n",
    "            return 1\n",
    "        if 'release_date' not in m2:\n",
    "            return -1\n",
    "        year_diff_1 = np.abs(pd.to_datetime(m1['release_date']).year - year)\n",
    "        year_diff_2 = np.abs(pd.to_datetime(m2['release_date']).year - year)\n",
    "        score_1 = 0.3 * edst_1 + year_diff_1\n",
    "        score_2 = 0.3 * edst_2 + year_diff_2\n",
    "        return -1 if score_1 <= score_2 else 1\n",
    "    results = list(sorted(results, key=cmp_to_key(cmp)))\n",
    "    if len(results) > 0:\n",
    "        movie = tmdb.Movies(results[0]['id'])\n",
    "        keywords = [k['name'] for k in movie.keywords()['keywords']]\n",
    "        info = movie.info()\n",
    "        original_language = info['original_language']\n",
    "        overview = clean_text(info['overview'])\n",
    "        runtime = info['runtime']\n",
    "        tagline = clean_text(info['tagline'])\n",
    "        original_title = info['original_title']\n",
    "        title = info['title']\n",
    "        release_date = info['release_date']\n",
    "        return {\"movie_id\":movie_id,\"title\":title, \"keywords\":keywords, \"original_language\":original_language, \n",
    "                \"overview\":overview, \"runtime\":runtime, \"tagline\":tagline, \n",
    "                'original_title':original_title, \"release_date\":release_date,\n",
    "               \"success\":True}\n",
    "    else:\n",
    "        return {\"movie_id\":movie_id,\"title\":title, \"keywords\":[], \"original_language\":'', \n",
    "                \"overview\":'', \"runtime\":-1, \"tagline\":'', \n",
    "                'original_title':'',\"release_date\":str(year), \n",
    "                \"success\":False}\n",
    "    \n"
   ]
  },
  {
   "cell_type": "code",
   "execution_count": 90,
   "metadata": {
    "ExecuteTime": {
     "end_time": "2020-01-20T17:22:14.723242Z",
     "start_time": "2020-01-20T17:22:11.181225Z"
    }
   },
   "outputs": [
    {
     "name": "stderr",
     "output_type": "stream",
     "text": [
      "[PID: 7808] [2020-01-20 22:52:11] [DEBUG] [urllib3.connectionpool]: Starting new HTTPS connection (1): api.themoviedb.org:443\n",
      "[PID: 7808] [2020-01-20 22:52:12] [DEBUG] [urllib3.connectionpool]: https://api.themoviedb.org:443 \"GET /3/search/movie?query=Toy+Story&api_key=08d3df3441c114a6cdb87682cb5b8013 HTTP/1.1\" 200 None\n",
      "[PID: 7808] [2020-01-20 22:52:12] [DEBUG] [urllib3.connectionpool]: Starting new HTTPS connection (1): api.themoviedb.org:443\n",
      "[PID: 7808] [2020-01-20 22:52:13] [DEBUG] [urllib3.connectionpool]: https://api.themoviedb.org:443 \"GET /3/movie/862/keywords?api_key=08d3df3441c114a6cdb87682cb5b8013 HTTP/1.1\" 200 573\n",
      "[PID: 7808] [2020-01-20 22:52:13] [DEBUG] [urllib3.connectionpool]: Starting new HTTPS connection (1): api.themoviedb.org:443\n",
      "[PID: 7808] [2020-01-20 22:52:14] [DEBUG] [urllib3.connectionpool]: https://api.themoviedb.org:443 \"GET /3/movie/862?api_key=08d3df3441c114a6cdb87682cb5b8013 HTTP/1.1\" 200 None\n"
     ]
    },
    {
     "data": {
      "text/plain": [
       "{'movie_id': 100,\n",
       " 'title': 'Toy Story',\n",
       " 'keywords': ['martial arts',\n",
       "  'jealousy',\n",
       "  'toy',\n",
       "  'boy',\n",
       "  'friendship',\n",
       "  'bullying',\n",
       "  'elementary school',\n",
       "  'friends',\n",
       "  'rivalry',\n",
       "  'rescue',\n",
       "  'mission',\n",
       "  'walkie talkie',\n",
       "  'boy next door',\n",
       "  'new toy',\n",
       "  'neighborhood',\n",
       "  'toy comes to life',\n",
       "  'resourcefulness'],\n",
       " 'original_language': 'en',\n",
       " 'overview': \"led by woody, andy's toys live happily in his room until andy's birthday brings buzz lightyear onto the scene. afraid of losing his place in andy's heart, woody plots against buzz. but when circumstances separate buzz and woody from their owner, the duo eventually learns to put aside their differences.\",\n",
       " 'runtime': 81,\n",
       " 'tagline': '',\n",
       " 'original_title': 'Toy Story',\n",
       " 'release_date': '1995-10-30',\n",
       " 'success': True}"
      ]
     },
     "execution_count": 90,
     "metadata": {},
     "output_type": "execute_result"
    }
   ],
   "source": [
    "get_movie_details_from_tmdb(movie_id=100,title=\"Toy Story\", year=1995)"
   ]
  },
  {
   "cell_type": "code",
   "execution_count": null,
   "metadata": {
    "ExecuteTime": {
     "end_time": "2020-01-20T17:23:38.893911Z",
     "start_time": "2020-01-20T17:23:27.766950Z"
    }
   },
   "outputs": [],
   "source": [
    "movies.head(3).apply(lambda m:get_movie_details_from_tmdb(m['id'], m['title'],m['year'])['overview'], axis=1)"
   ]
  },
  {
   "cell_type": "code",
   "execution_count": 95,
   "metadata": {
    "ExecuteTime": {
     "end_time": "2020-01-20T17:25:41.770165Z",
     "start_time": "2020-01-20T17:25:41.765717Z"
    }
   },
   "outputs": [],
   "source": [
    "tmdb_data = {}\n"
   ]
  },
  {
   "cell_type": "code",
   "execution_count": 129,
   "metadata": {
    "ExecuteTime": {
     "end_time": "2020-01-21T05:42:08.533931Z",
     "start_time": "2020-01-21T05:42:08.486581Z"
    }
   },
   "outputs": [
    {
     "data": {
      "application/vnd.jupyter.widget-view+json": {
       "model_id": "23aa86374d454794a8aa43d300a8bec8",
       "version_major": 2,
       "version_minor": 0
      },
      "text/plain": [
       "HBox(children=(IntProgress(value=0, max=1682), HTML(value='')))"
      ]
     },
     "metadata": {},
     "output_type": "display_data"
    },
    {
     "name": "stdout",
     "output_type": "stream",
     "text": [
      "\n"
     ]
    }
   ],
   "source": [
    "\n",
    "titles_years = list(zip(movies['id'], movies['title'],movies['year']))\n",
    "# overviews = Parallel(n_jobs=8)(delayed(get_movie_details_from_tmdb)(title,year) for title,year in tqdm_notebook(titles_years))\n",
    "\n",
    "\n",
    "for movie_id,title,year in tqdm_notebook(titles_years):\n",
    "    if movie_id in tmdb_data:\n",
    "        continue\n",
    "    print(movie_id, title, year)\n",
    "    movie_detail = get_movie_details_from_tmdb(movie_id=movie_id, title=title, year=year)\n",
    "    tmdb_data[movie_id] = movie_detail\n",
    "\n",
    "\n"
   ]
  },
  {
   "cell_type": "code",
   "execution_count": 163,
   "metadata": {
    "ExecuteTime": {
     "end_time": "2020-01-21T06:11:30.386660Z",
     "start_time": "2020-01-21T06:11:30.381227Z"
    }
   },
   "outputs": [
    {
     "data": {
      "text/plain": [
       "2"
      ]
     },
     "execution_count": 163,
     "metadata": {},
     "output_type": "execute_result"
    }
   ],
   "source": [
    "unsuccessful =[k for k,v in tmdb_data.items() if not v['success']]\n",
    "len(unsuccessful)\n"
   ]
  },
  {
   "cell_type": "code",
   "execution_count": 164,
   "metadata": {
    "ExecuteTime": {
     "end_time": "2020-01-21T06:11:31.049034Z",
     "start_time": "2020-01-21T06:11:31.036599Z"
    }
   },
   "outputs": [
    {
     "data": {
      "text/html": [
       "<div>\n",
       "<style scoped>\n",
       "    .dataframe tbody tr th:only-of-type {\n",
       "        vertical-align: middle;\n",
       "    }\n",
       "\n",
       "    .dataframe tbody tr th {\n",
       "        vertical-align: top;\n",
       "    }\n",
       "\n",
       "    .dataframe thead th {\n",
       "        text-align: right;\n",
       "    }\n",
       "</style>\n",
       "<table border=\"1\" class=\"dataframe\">\n",
       "  <thead>\n",
       "    <tr style=\"text-align: right;\">\n",
       "      <th></th>\n",
       "      <th>id</th>\n",
       "      <th>title</th>\n",
       "      <th>year</th>\n",
       "      <th>genres</th>\n",
       "    </tr>\n",
       "  </thead>\n",
       "  <tbody>\n",
       "    <tr>\n",
       "      <th>1330</th>\n",
       "      <td>1331</td>\n",
       "      <td>Last Klezmer: Leopold Kozlowski, His Life and ...</td>\n",
       "      <td>1995</td>\n",
       "      <td>[documentary]</td>\n",
       "    </tr>\n",
       "    <tr>\n",
       "      <th>1358</th>\n",
       "      <td>1359</td>\n",
       "      <td>Boys in Venice</td>\n",
       "      <td>1996</td>\n",
       "      <td>[drama]</td>\n",
       "    </tr>\n",
       "  </tbody>\n",
       "</table>\n",
       "</div>"
      ],
      "text/plain": [
       "        id                                              title  year  \\\n",
       "1330  1331  Last Klezmer: Leopold Kozlowski, His Life and ...  1995   \n",
       "1358  1359                                     Boys in Venice  1996   \n",
       "\n",
       "             genres  \n",
       "1330  [documentary]  \n",
       "1358        [drama]  "
      ]
     },
     "execution_count": 164,
     "metadata": {},
     "output_type": "execute_result"
    }
   ],
   "source": [
    "movies[movies.id.isin(unsuccessful)].head(30).tail(5)"
   ]
  },
  {
   "cell_type": "code",
   "execution_count": 166,
   "metadata": {
    "ExecuteTime": {
     "end_time": "2020-01-21T06:13:04.269785Z",
     "start_time": "2020-01-21T06:13:03.124855Z"
    }
   },
   "outputs": [
    {
     "name": "stderr",
     "output_type": "stream",
     "text": [
      "[PID: 7808] [2020-01-21 11:43:03] [DEBUG] [urllib3.connectionpool]: Starting new HTTPS connection (1): api.themoviedb.org:443\n",
      "[PID: 7808] [2020-01-21 11:43:03] [DEBUG] [urllib3.connectionpool]: https://api.themoviedb.org:443 \"GET /3/search/movie?query=Klezmer&api_key=08d3df3441c114a6cdb87682cb5b8013 HTTP/1.1\" 200 None\n",
      "[PID: 7808] [2020-01-21 11:43:03] [DEBUG] [urllib3.connectionpool]: Starting new HTTPS connection (1): api.themoviedb.org:443\n",
      "[PID: 7808] [2020-01-21 11:43:03] [DEBUG] [urllib3.connectionpool]: https://api.themoviedb.org:443 \"GET /3/movie/9367/keywords?api_key=08d3df3441c114a6cdb87682cb5b8013 HTTP/1.1\" 200 227\n",
      "[PID: 7808] [2020-01-21 11:43:03] [DEBUG] [urllib3.connectionpool]: Starting new HTTPS connection (1): api.themoviedb.org:443\n",
      "[PID: 7808] [2020-01-21 11:43:04] [DEBUG] [urllib3.connectionpool]: https://api.themoviedb.org:443 \"GET /3/movie/9367?api_key=08d3df3441c114a6cdb87682cb5b8013 HTTP/1.1\" 200 None\n"
     ]
    },
    {
     "data": {
      "text/plain": [
       "{'movie_id': 1331,\n",
       " 'title': 'El Mariachi',\n",
       " 'keywords': ['united states–mexico barrier',\n",
       "  'killer',\n",
       "  'legs',\n",
       "  'cult film',\n",
       "  'arms',\n",
       "  'guitar case'],\n",
       " 'original_language': 'es',\n",
       " 'overview': 'el mariachi just wants to play his guitar and carry on the family tradition. unfortunately, the town he tries to find work in has another visitor, a killer who carries his guns in a guitar case. the drug lord and his henchmen mistake el mariachi for the killer, azul, and chase him around town trying to kill him and get his guitar case.',\n",
       " 'runtime': 81,\n",
       " 'tagline': \"he didn't come looking for trouble, but trouble came looking for him.\",\n",
       " 'original_title': 'El Mariachi',\n",
       " 'release_date': '1992-09-04',\n",
       " 'success': True}"
      ]
     },
     "execution_count": 166,
     "metadata": {},
     "output_type": "execute_result"
    }
   ],
   "source": [
    "movie_id = 1331\n",
    "movie_detail = get_movie_details_from_tmdb(movie_id=movie_id, title=\"Klezmer\", year=1995)\n",
    "movie_detail\n",
    "if movie_detail[\"success\"]:\n",
    "    tmdb_data[movie_id] = movie_detail\n",
    "else:\n",
    "    print(\"Fail\")\n"
   ]
  },
  {
   "cell_type": "code",
   "execution_count": 167,
   "metadata": {
    "ExecuteTime": {
     "end_time": "2020-01-21T06:13:15.569524Z",
     "start_time": "2020-01-21T06:13:15.563008Z"
    }
   },
   "outputs": [
    {
     "data": {
      "text/plain": [
       "1"
      ]
     },
     "execution_count": 167,
     "metadata": {},
     "output_type": "execute_result"
    }
   ],
   "source": [
    "unsuccessful =[k for k,v in tmdb_data.items() if not v['success']]\n",
    "len(unsuccessful)\n"
   ]
  },
  {
   "cell_type": "code",
   "execution_count": 168,
   "metadata": {
    "ExecuteTime": {
     "end_time": "2020-01-21T06:13:20.084412Z",
     "start_time": "2020-01-21T06:13:20.025760Z"
    }
   },
   "outputs": [
    {
     "data": {
      "text/plain": [
       "(1682, 9)"
      ]
     },
     "execution_count": 168,
     "metadata": {},
     "output_type": "execute_result"
    }
   ],
   "source": [
    "tmdb_df = pd.DataFrame.from_records(list(tmdb_data.values()))\n",
    "tmdb_df.drop(columns=[\"success\"], inplace=True)\n",
    "tmdb_df.shape\n",
    "assert tmdb_df.shape[0] == len(list(tmdb_data.values()))\n",
    "\n",
    "tmdb_df.to_csv(\"tmdb_data.csv\", sep=\"\\t\", index=False)\n"
   ]
  },
  {
   "cell_type": "code",
   "execution_count": 170,
   "metadata": {
    "ExecuteTime": {
     "end_time": "2020-01-21T06:14:05.956010Z",
     "start_time": "2020-01-21T06:14:05.931958Z"
    }
   },
   "outputs": [
    {
     "data": {
      "text/plain": [
       "(1682, 4)"
      ]
     },
     "execution_count": 170,
     "metadata": {},
     "output_type": "execute_result"
    },
    {
     "data": {
      "text/plain": [
       "(1682, 13)"
      ]
     },
     "execution_count": 170,
     "metadata": {},
     "output_type": "execute_result"
    }
   ],
   "source": [
    "movies.shape\n",
    "tmdb_df.rename(columns={\"title\":\"tmdb_title\"}, inplace=True)\n",
    "movies = movies.merge(tmdb_df, left_on=\"id\", right_on=\"movie_id\")\n",
    "movies.shape\n"
   ]
  },
  {
   "cell_type": "code",
   "execution_count": 171,
   "metadata": {
    "ExecuteTime": {
     "end_time": "2020-01-21T06:14:13.351449Z",
     "start_time": "2020-01-21T06:14:13.237123Z"
    }
   },
   "outputs": [],
   "source": [
    "movies.to_csv(\"movies.csv\", sep=\"\\t\", index=False)"
   ]
  },
  {
   "cell_type": "code",
   "execution_count": 172,
   "metadata": {
    "ExecuteTime": {
     "end_time": "2020-01-21T06:14:27.292775Z",
     "start_time": "2020-01-21T06:14:27.184038Z"
    }
   },
   "outputs": [],
   "source": [
    "movies = pd.read_csv(\"movies.csv\", sep=\"\\t\", engine=\"python\")\n",
    "users = pd.read_csv(\"users.csv\", sep=\"\\t\")\n",
    "ratings = pd.read_csv(\"ratings.csv\", sep=\"\\t\")\n",
    "\n",
    "\n"
   ]
  },
  {
   "cell_type": "code",
   "execution_count": 173,
   "metadata": {
    "ExecuteTime": {
     "end_time": "2020-01-21T06:14:36.683938Z",
     "start_time": "2020-01-21T06:14:36.662890Z"
    }
   },
   "outputs": [
    {
     "data": {
      "text/html": [
       "<div>\n",
       "<style scoped>\n",
       "    .dataframe tbody tr th:only-of-type {\n",
       "        vertical-align: middle;\n",
       "    }\n",
       "\n",
       "    .dataframe tbody tr th {\n",
       "        vertical-align: top;\n",
       "    }\n",
       "\n",
       "    .dataframe thead th {\n",
       "        text-align: right;\n",
       "    }\n",
       "</style>\n",
       "<table border=\"1\" class=\"dataframe\">\n",
       "  <thead>\n",
       "    <tr style=\"text-align: right;\">\n",
       "      <th></th>\n",
       "      <th>id</th>\n",
       "      <th>title</th>\n",
       "      <th>year</th>\n",
       "      <th>genres</th>\n",
       "      <th>movie_id</th>\n",
       "      <th>tmdb_title</th>\n",
       "      <th>keywords</th>\n",
       "      <th>original_language</th>\n",
       "      <th>overview</th>\n",
       "      <th>runtime</th>\n",
       "      <th>tagline</th>\n",
       "      <th>original_title</th>\n",
       "      <th>release_date</th>\n",
       "    </tr>\n",
       "  </thead>\n",
       "  <tbody>\n",
       "    <tr>\n",
       "      <th>0</th>\n",
       "      <td>1</td>\n",
       "      <td>Toy Story</td>\n",
       "      <td>1995</td>\n",
       "      <td>['animation' 'children' 'comedy']</td>\n",
       "      <td>1</td>\n",
       "      <td>Toy Story</td>\n",
       "      <td>['martial arts', 'jealousy', 'toy', 'boy', 'fr...</td>\n",
       "      <td>en</td>\n",
       "      <td>led by woody, andy's toys live happily in his ...</td>\n",
       "      <td>81.0</td>\n",
       "      <td>NaN</td>\n",
       "      <td>Toy Story</td>\n",
       "      <td>1995-10-30</td>\n",
       "    </tr>\n",
       "    <tr>\n",
       "      <th>1</th>\n",
       "      <td>2</td>\n",
       "      <td>GoldenEye</td>\n",
       "      <td>1995</td>\n",
       "      <td>['action' 'adventure' 'thriller']</td>\n",
       "      <td>2</td>\n",
       "      <td>GoldenEye</td>\n",
       "      <td>['cuba', 'falsely accused', 'secret identity',...</td>\n",
       "      <td>en</td>\n",
       "      <td>james bond must unmask the mysterious head of ...</td>\n",
       "      <td>130.0</td>\n",
       "      <td>no limits. no fears. no substitutes.</td>\n",
       "      <td>GoldenEye</td>\n",
       "      <td>1995-11-16</td>\n",
       "    </tr>\n",
       "    <tr>\n",
       "      <th>2</th>\n",
       "      <td>3</td>\n",
       "      <td>Four Rooms</td>\n",
       "      <td>1995</td>\n",
       "      <td>['thriller']</td>\n",
       "      <td>3</td>\n",
       "      <td>Four Rooms</td>\n",
       "      <td>['hotel', \"new year's eve\", 'witch', 'bet', 'h...</td>\n",
       "      <td>en</td>\n",
       "      <td>it's ted the bellhop's first night on the job....</td>\n",
       "      <td>98.0</td>\n",
       "      <td>twelve outrageous guests. four scandalous requ...</td>\n",
       "      <td>Four Rooms</td>\n",
       "      <td>1995-12-09</td>\n",
       "    </tr>\n",
       "    <tr>\n",
       "      <th>3</th>\n",
       "      <td>4</td>\n",
       "      <td>Get Shorty</td>\n",
       "      <td>1995</td>\n",
       "      <td>['action' 'comedy' 'drama']</td>\n",
       "      <td>4</td>\n",
       "      <td>Get Shorty</td>\n",
       "      <td>['gambling', 'miami', 'based on novel or book'...</td>\n",
       "      <td>en</td>\n",
       "      <td>chili palmer is a miami mobster who gets sent ...</td>\n",
       "      <td>105.0</td>\n",
       "      <td>the mob is tough, but it’s nothing like show b...</td>\n",
       "      <td>Get Shorty</td>\n",
       "      <td>1995-10-20</td>\n",
       "    </tr>\n",
       "    <tr>\n",
       "      <th>4</th>\n",
       "      <td>5</td>\n",
       "      <td>Copycat</td>\n",
       "      <td>1995</td>\n",
       "      <td>['crime' 'drama' 'thriller']</td>\n",
       "      <td>5</td>\n",
       "      <td>Copycat</td>\n",
       "      <td>['police brutality', 'psychology', 'police ope...</td>\n",
       "      <td>en</td>\n",
       "      <td>an agoraphobic psychologist and a female detec...</td>\n",
       "      <td>124.0</td>\n",
       "      <td>one man is copying the most notorious killers ...</td>\n",
       "      <td>Copycat</td>\n",
       "      <td>1995-10-27</td>\n",
       "    </tr>\n",
       "  </tbody>\n",
       "</table>\n",
       "</div>"
      ],
      "text/plain": [
       "   id       title  year                             genres  movie_id  \\\n",
       "0   1   Toy Story  1995  ['animation' 'children' 'comedy']         1   \n",
       "1   2   GoldenEye  1995  ['action' 'adventure' 'thriller']         2   \n",
       "2   3  Four Rooms  1995                       ['thriller']         3   \n",
       "3   4  Get Shorty  1995        ['action' 'comedy' 'drama']         4   \n",
       "4   5     Copycat  1995       ['crime' 'drama' 'thriller']         5   \n",
       "\n",
       "   tmdb_title                                           keywords  \\\n",
       "0   Toy Story  ['martial arts', 'jealousy', 'toy', 'boy', 'fr...   \n",
       "1   GoldenEye  ['cuba', 'falsely accused', 'secret identity',...   \n",
       "2  Four Rooms  ['hotel', \"new year's eve\", 'witch', 'bet', 'h...   \n",
       "3  Get Shorty  ['gambling', 'miami', 'based on novel or book'...   \n",
       "4     Copycat  ['police brutality', 'psychology', 'police ope...   \n",
       "\n",
       "  original_language                                           overview  \\\n",
       "0                en  led by woody, andy's toys live happily in his ...   \n",
       "1                en  james bond must unmask the mysterious head of ...   \n",
       "2                en  it's ted the bellhop's first night on the job....   \n",
       "3                en  chili palmer is a miami mobster who gets sent ...   \n",
       "4                en  an agoraphobic psychologist and a female detec...   \n",
       "\n",
       "   runtime                                            tagline original_title  \\\n",
       "0     81.0                                                NaN      Toy Story   \n",
       "1    130.0               no limits. no fears. no substitutes.      GoldenEye   \n",
       "2     98.0  twelve outrageous guests. four scandalous requ...     Four Rooms   \n",
       "3    105.0  the mob is tough, but it’s nothing like show b...     Get Shorty   \n",
       "4    124.0  one man is copying the most notorious killers ...        Copycat   \n",
       "\n",
       "  release_date  \n",
       "0   1995-10-30  \n",
       "1   1995-11-16  \n",
       "2   1995-12-09  \n",
       "3   1995-10-20  \n",
       "4   1995-10-27  "
      ]
     },
     "execution_count": 173,
     "metadata": {},
     "output_type": "execute_result"
    }
   ],
   "source": [
    "movies.head()"
   ]
  },
  {
   "cell_type": "code",
   "execution_count": null,
   "metadata": {},
   "outputs": [],
   "source": []
  }
 ],
 "metadata": {
  "kernelspec": {
   "display_name": "Python [conda env:hybrid-recsys] *",
   "language": "python",
   "name": "conda-env-hybrid-recsys-py"
  },
  "language_info": {
   "codemirror_mode": {
    "name": "ipython",
    "version": 3
   },
   "file_extension": ".py",
   "mimetype": "text/x-python",
   "name": "python",
   "nbconvert_exporter": "python",
   "pygments_lexer": "ipython3",
   "version": "3.7.4"
  },
  "toc": {
   "base_numbering": 1,
   "nav_menu": {},
   "number_sections": true,
   "sideBar": true,
   "skip_h1_title": false,
   "title_cell": "Table of Contents",
   "title_sidebar": "Contents",
   "toc_cell": false,
   "toc_position": {},
   "toc_section_display": true,
   "toc_window_display": false
  }
 },
 "nbformat": 4,
 "nbformat_minor": 2
}
