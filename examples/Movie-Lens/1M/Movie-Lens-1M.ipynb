{
 "cells": [
  {
   "cell_type": "code",
   "execution_count": 1,
   "metadata": {
    "ExecuteTime": {
     "end_time": "2019-11-11T12:26:51.030814Z",
     "start_time": "2019-11-11T12:26:51.010758Z"
    }
   },
   "outputs": [],
   "source": [
    "from IPython.core.interactiveshell import InteractiveShell\n",
    "from IPython.display import display, HTML\n",
    "InteractiveShell.ast_node_interactivity = \"all\"\n",
    "%config InlineBackend.figure_format='retina'\n",
    "\n",
    "import warnings\n",
    "warnings.filterwarnings('ignore')"
   ]
  },
  {
   "cell_type": "code",
   "execution_count": 2,
   "metadata": {
    "ExecuteTime": {
     "end_time": "2019-11-11T12:27:00.459669Z",
     "start_time": "2019-11-11T12:26:51.464477Z"
    }
   },
   "outputs": [
    {
     "name": "stdout",
     "output_type": "stream",
     "text": [
      "(6040, 5) (3883, 12) (1000209, 4)\n"
     ]
    },
    {
     "data": {
      "text/plain": [
       "<module 'hwer' from '/Users/ahemf/mygit/Hybrid-Weighted-Embedding-Recommender/hwer/__init__.py'>"
      ]
     },
     "execution_count": 2,
     "metadata": {},
     "output_type": "execute_result"
    }
   ],
   "source": [
    "from surprise import Dataset\n",
    "from surprise import accuracy\n",
    "import pandas as pd\n",
    "from pathlib import Path\n",
    "\n",
    "from surprise.model_selection import train_test_split\n",
    "import numpy as np\n",
    "from tqdm import tqdm,tqdm_notebook\n",
    "\n",
    "users = pd.read_csv(\"users.csv\", sep=\"\\t\", engine=\"python\")\n",
    "movies = pd.read_csv(\"movies.csv\", sep=\"\\t\", engine=\"python\")\n",
    "ratings = pd.read_csv(\"ratings.csv\", sep=\"\\t\", engine=\"python\")\n",
    "\n",
    "users['user_id'] = users['user_id'].astype(str)\n",
    "movies['movie_id'] = movies['movie_id'].astype(str)\n",
    "ratings['movie_id'] = ratings['movie_id'].astype(str)\n",
    "ratings['user_id'] = ratings['user_id'].astype(str)\n",
    "\n",
    "print(users.shape, movies.shape, ratings.shape)\n",
    "\n",
    "\n",
    "from importlib import reload\n",
    "import hwer\n",
    "reload(hwer)\n",
    "\n",
    "\n"
   ]
  },
  {
   "cell_type": "code",
   "execution_count": 3,
   "metadata": {
    "ExecuteTime": {
     "end_time": "2019-11-11T12:27:00.682735Z",
     "start_time": "2019-11-11T12:27:00.462336Z"
    }
   },
   "outputs": [],
   "source": [
    "from ast import literal_eval\n",
    "\n",
    "movies.genres = movies.genres.fillna(\"[]\").apply(literal_eval)\n",
    "movies['year'] = movies['year'].fillna(-1).astype(int)\n",
    "\n",
    "movies.keywords = movies.keywords.fillna(\"[]\").apply(literal_eval)\n",
    "movies.keywords = movies.keywords.apply(lambda x: \" \".join(x))\n",
    "\n",
    "movies.tagline = movies.tagline.fillna(\"\")\n",
    "text_columns = [\"title\",\"keywords\",\"overview\",\"tagline\",\"original_title\"]\n",
    "movies[text_columns] = movies[text_columns].fillna(\"\")\n",
    "\n",
    "movies['text'] = movies[\"title\"] +\" \"+ movies[\"keywords\"] +\" \"+ movies[\"overview\"] +\" \"+ movies[\"tagline\"] +\" \"+ movies[\"original_title\"]\n",
    "movies[\"title_length\"] = movies[\"title\"].apply(len)\n",
    "movies[\"overview_length\"] = movies[\"overview\"].apply(len)\n",
    "movies[\"runtime\"] = movies[\"runtime\"].fillna(0.0)\n"
   ]
  },
  {
   "cell_type": "code",
   "execution_count": 4,
   "metadata": {
    "ExecuteTime": {
     "end_time": "2019-11-11T12:27:13.673208Z",
     "start_time": "2019-11-11T12:27:11.847007Z"
    }
   },
   "outputs": [
    {
     "data": {
      "text/plain": [
       "array([['1', '1193', 5, 978300760],\n",
       "       ['1', '661', 3, 978302109],\n",
       "       ['1', '914', 3, 978301968],\n",
       "       ['1', '3408', 4, 978300275],\n",
       "       ['1', '2355', 5, 978824291]], dtype=object)"
      ]
     },
     "execution_count": 4,
     "metadata": {},
     "output_type": "execute_result"
    }
   ],
   "source": [
    "ratings.head().values\n",
    "user_item_affinities = [[row[0], row[1], row[2]] for row in ratings.values]\n"
   ]
  },
  {
   "cell_type": "code",
   "execution_count": 5,
   "metadata": {
    "ExecuteTime": {
     "end_time": "2019-11-11T12:29:14.444294Z",
     "start_time": "2019-11-11T12:27:13.677069Z"
    }
   },
   "outputs": [
    {
     "name": "stderr",
     "output_type": "stream",
     "text": [
      "100%|██████████| 3883/3883 [00:21<00:00, 184.67it/s]\n"
     ]
    }
   ],
   "source": [
    "\n",
    "from hwer import MultiCategoricalEmbedding, FlairGlove100AndBytePairEmbedding, CategoricalEmbedding, NumericEmbedding\n",
    "from hwer import Feature, FeatureSet, ContentRecommendation, FeatureType\n",
    "\n",
    "embedding_mapper = {}\n",
    "embedding_mapper['gender'] = CategoricalEmbedding(n_dims=1)\n",
    "embedding_mapper['age'] = CategoricalEmbedding(n_dims=1)\n",
    "embedding_mapper['occupation'] = CategoricalEmbedding(n_dims=2)\n",
    "embedding_mapper['zip'] = CategoricalEmbedding(n_dims=8)\n",
    "\n",
    "embedding_mapper['text'] = FlairGlove100AndBytePairEmbedding()\n",
    "embedding_mapper['numeric'] = NumericEmbedding(4)\n",
    "embedding_mapper['genres'] = MultiCategoricalEmbedding(n_dims=16)\n",
    "\n",
    "\n",
    "recsys = ContentRecommendation(embedding_mapper=embedding_mapper, knn_params=None, n_output_dims=128, rating_scale=(1,5))\n",
    "\n",
    "\n",
    "u1 = Feature(feature_name=\"gender\", feature_type=FeatureType.CATEGORICAL, values=users.gender.values)\n",
    "u2 = Feature(feature_name=\"age\", feature_type=FeatureType.CATEGORICAL, values=users.age.astype(str).values)\n",
    "u3 = Feature(feature_name=\"occupation\", feature_type=FeatureType.CATEGORICAL, values=users.occupation.astype(str).values)\n",
    "u4 = Feature(feature_name=\"zip\", feature_type=FeatureType.CATEGORICAL, values=users.zip.astype(str).values)\n",
    "user_data = FeatureSet([u1, u2, u3, u4])\n",
    "\n",
    "i1 = Feature(feature_name=\"text\", feature_type=FeatureType.STR, values=movies.text.values)\n",
    "i2 = Feature(feature_name=\"genres\", feature_type=FeatureType.MULTI_CATEGORICAL, values=movies.genres.values)\n",
    "i3 = Feature(feature_name=\"numeric\", feature_type=FeatureType.NUMERIC, values=movies[[\"title_length\", \"overview_length\", \"runtime\"]].values)\n",
    "item_data = FeatureSet([i1, i2, i3])\n",
    "\n",
    "kwargs = {}\n",
    "kwargs['user_data'] = user_data\n",
    "kwargs['item_data'] = item_data\n",
    "\n",
    "_ = recsys.fit(users.user_id.values, movies.movie_id.values,\n",
    "               user_item_affinities, **kwargs)\n",
    "\n",
    "\n"
   ]
  },
  {
   "cell_type": "code",
   "execution_count": 6,
   "metadata": {
    "ExecuteTime": {
     "end_time": "2019-11-11T12:29:22.610737Z",
     "start_time": "2019-11-11T12:29:22.528379Z"
    },
    "scrolled": false
   },
   "outputs": [
    {
     "data": {
      "text/plain": [
       "1"
      ]
     },
     "execution_count": 6,
     "metadata": {},
     "output_type": "execute_result"
    }
   ],
   "source": [
    "res, dist = zip(*recsys.find_items_for_user(user='1', positive=[], negative=[]))\n",
    "res = res[:100]\n",
    "\n",
    "preds = set(movies[movies.movie_id.isin(res)][\"title\"])\n",
    "actuals = set(movies.merge(ratings[ratings.user_id=='1'],on='movie_id')[\"title\"])\n",
    "\n",
    "len(preds.intersection(actuals))\n"
   ]
  },
  {
   "cell_type": "code",
   "execution_count": null,
   "metadata": {
    "ExecuteTime": {
     "end_time": "2019-11-11T07:45:55.585751Z",
     "start_time": "2019-11-11T07:45:55.329137Z"
    },
    "scrolled": false
   },
   "outputs": [],
   "source": []
  },
  {
   "cell_type": "code",
   "execution_count": null,
   "metadata": {},
   "outputs": [],
   "source": [
    "# normalize affinity/ratings per user\n",
    "# Look at surprise SVD++ and NMF\n",
    "# Try without movie title\n",
    "# Ranking part\n"
   ]
  },
  {
   "cell_type": "code",
   "execution_count": 3,
   "metadata": {
    "ExecuteTime": {
     "end_time": "2019-11-10T08:09:07.747757Z",
     "start_time": "2019-11-10T08:09:07.743546Z"
    }
   },
   "outputs": [],
   "source": [
    "from hwer.utils import normalize_affinity_scores_by_user_item"
   ]
  },
  {
   "cell_type": "code",
   "execution_count": null,
   "metadata": {},
   "outputs": [],
   "source": []
  },
  {
   "cell_type": "code",
   "execution_count": 11,
   "metadata": {
    "ExecuteTime": {
     "end_time": "2019-11-10T08:14:38.621532Z",
     "start_time": "2019-11-10T08:14:00.100674Z"
    }
   },
   "outputs": [
    {
     "data": {
      "text/html": [
       "<div>\n",
       "<style scoped>\n",
       "    .dataframe tbody tr th:only-of-type {\n",
       "        vertical-align: middle;\n",
       "    }\n",
       "\n",
       "    .dataframe tbody tr th {\n",
       "        vertical-align: top;\n",
       "    }\n",
       "\n",
       "    .dataframe thead th {\n",
       "        text-align: right;\n",
       "    }\n",
       "</style>\n",
       "<table border=\"1\" class=\"dataframe\">\n",
       "  <thead>\n",
       "    <tr style=\"text-align: right;\">\n",
       "      <th></th>\n",
       "      <th>user</th>\n",
       "      <th>item</th>\n",
       "      <th>rating</th>\n",
       "    </tr>\n",
       "  </thead>\n",
       "  <tbody>\n",
       "    <tr>\n",
       "      <th>0</th>\n",
       "      <td>1</td>\n",
       "      <td>1193</td>\n",
       "      <td>5.0</td>\n",
       "    </tr>\n",
       "  </tbody>\n",
       "</table>\n",
       "</div>"
      ],
      "text/plain": [
       "  user  item  rating\n",
       "0    1  1193     5.0"
      ]
     },
     "execution_count": 11,
     "metadata": {},
     "output_type": "execute_result"
    }
   ],
   "source": [
    "uid = pd.DataFrame(user_item_affinities, columns=[\"user\", \"item\", \"rating\"])\n",
    "uid.head(1)\n",
    "mean, bu, bi, spread, uid = normalize_affinity_scores_by_user_item(user_item_affinities)\n"
   ]
  },
  {
   "cell_type": "code",
   "execution_count": 12,
   "metadata": {
    "ExecuteTime": {
     "end_time": "2019-11-10T08:14:51.836648Z",
     "start_time": "2019-11-10T08:14:51.269874Z"
    }
   },
   "outputs": [
    {
     "data": {
      "text/plain": [
       "(3.581564453029317,\n",
       " 0.42412658236574274,\n",
       " 0.749009453633146,\n",
       " ('1', '1193', 0.24529951097179392))"
      ]
     },
     "execution_count": 12,
     "metadata": {},
     "output_type": "execute_result"
    },
    {
     "data": {
      "text/plain": [
       "4.754700489028206"
      ]
     },
     "execution_count": 12,
     "metadata": {},
     "output_type": "execute_result"
    },
    {
     "data": {
      "text/plain": [
       "9.644394911604012"
      ]
     },
     "execution_count": 12,
     "metadata": {},
     "output_type": "execute_result"
    },
    {
     "data": {
      "text/plain": [
       "4.889694422575806"
      ]
     },
     "execution_count": 12,
     "metadata": {},
     "output_type": "execute_result"
    },
    {
     "data": {
      "text/plain": [
       "(4.889694422575806, -4.8504526245318145)"
      ]
     },
     "execution_count": 12,
     "metadata": {},
     "output_type": "execute_result"
    },
    {
     "data": {
      "text/plain": [
       "4.889694422575806"
      ]
     },
     "execution_count": 12,
     "metadata": {},
     "output_type": "execute_result"
    }
   ],
   "source": [
    "mean, bu[uid[0][0]], bi[uid[0][1]], uid[0]\n",
    "\n",
    "mean + bu[uid[0][0]] + bi[uid[0][1]]\n",
    "mean + bu[uid[0][0]] + bi[uid[0][1]] + spread\n",
    "\n",
    "spread\n",
    "uid = pd.DataFrame(uid, columns=[\"user\", \"item\", \"rating\"])\n",
    "uid[\"rating\"].max(), uid[\"rating\"].min()\n",
    "spread = max(uid[\"rating\"].max(), np.abs(uid[\"rating\"].min()))\n",
    "spread"
   ]
  },
  {
   "cell_type": "code",
   "execution_count": 173,
   "metadata": {
    "ExecuteTime": {
     "end_time": "2019-11-09T18:11:26.837221Z",
     "start_time": "2019-11-09T18:11:26.162597Z"
    }
   },
   "outputs": [
    {
     "data": {
      "text/plain": [
       "0.8991955379743222"
      ]
     },
     "execution_count": 173,
     "metadata": {},
     "output_type": "execute_result"
    },
    {
     "data": {
      "text/plain": [
       "(763427, 4.889694422575806)"
      ]
     },
     "execution_count": 173,
     "metadata": {},
     "output_type": "execute_result"
    }
   ],
   "source": [
    "preds = np.array([mean + bu[u] + bi[i] for u, i, r in user_item_affinities])\n",
    "actuals = np.array([r for u, i, r in user_item_affinities])\n",
    "np.sqrt(np.mean(np.square(actuals - preds)))\n",
    "\n",
    "np.argmax(np.abs(actuals - preds)),np.max(np.abs(actuals - preds))\n"
   ]
  },
  {
   "cell_type": "code",
   "execution_count": null,
   "metadata": {},
   "outputs": [],
   "source": []
  }
 ],
 "metadata": {
  "kernelspec": {
   "display_name": "Python [conda env:hybrid-recsys] *",
   "language": "python",
   "name": "conda-env-hybrid-recsys-py"
  },
  "language_info": {
   "codemirror_mode": {
    "name": "ipython",
    "version": 3
   },
   "file_extension": ".py",
   "mimetype": "text/x-python",
   "name": "python",
   "nbconvert_exporter": "python",
   "pygments_lexer": "ipython3",
   "version": "3.7.4"
  },
  "toc": {
   "base_numbering": 1,
   "nav_menu": {},
   "number_sections": true,
   "sideBar": true,
   "skip_h1_title": false,
   "title_cell": "Table of Contents",
   "title_sidebar": "Contents",
   "toc_cell": false,
   "toc_position": {},
   "toc_section_display": true,
   "toc_window_display": false
  }
 },
 "nbformat": 4,
 "nbformat_minor": 2
}
