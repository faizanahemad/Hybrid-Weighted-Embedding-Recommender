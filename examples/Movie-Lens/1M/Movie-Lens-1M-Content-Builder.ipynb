{
 "cells": [
  {
   "cell_type": "code",
   "execution_count": 1,
   "metadata": {
    "ExecuteTime": {
     "end_time": "2019-11-09T08:26:44.739303Z",
     "start_time": "2019-11-09T08:26:44.713167Z"
    }
   },
   "outputs": [],
   "source": [
    "from IPython.core.interactiveshell import InteractiveShell\n",
    "from IPython.display import display, HTML\n",
    "InteractiveShell.ast_node_interactivity = \"all\"\n",
    "%config InlineBackend.figure_format='retina'\n",
    "\n",
    "import warnings\n",
    "warnings.filterwarnings('ignore')"
   ]
  },
  {
   "cell_type": "code",
   "execution_count": 6,
   "metadata": {
    "ExecuteTime": {
     "end_time": "2019-11-09T08:28:39.555313Z",
     "start_time": "2019-11-09T08:28:34.345779Z"
    }
   },
   "outputs": [],
   "source": [
    "import tmdbsimple as tmdb\n",
    "tmdb.API_KEY = '08d3df3441c114a6cdb87682cb5b8013'\n",
    "\n",
    "from editdistance import eval as editdistance\n",
    "\n",
    "from surprise import Dataset\n",
    "from surprise import accuracy\n",
    "import numpy as np\n",
    "import time\n",
    "import pandas as pd\n",
    "from pathlib import Path\n",
    "from surprise.model_selection import train_test_split\n",
    "data = Dataset.load_builtin('ml-1m')\n",
    "trainset, testset = train_test_split(data, test_size=.25)\n",
    "from tqdm import tqdm,tqdm_notebook\n",
    "from joblib import Parallel, delayed\n",
    "\n",
    "from hwer.utils import clean_text"
   ]
  },
  {
   "cell_type": "code",
   "execution_count": 3,
   "metadata": {
    "ExecuteTime": {
     "end_time": "2019-11-09T08:26:57.477876Z",
     "start_time": "2019-11-09T08:26:49.730925Z"
    }
   },
   "outputs": [
    {
     "name": "stdout",
     "output_type": "stream",
     "text": [
      "(6040, 5) (3883, 3) (1000209, 4)\n"
     ]
    }
   ],
   "source": [
    "\n",
    "\n",
    "\n",
    "path = Path(data.ratings_file)\n",
    "ml_1m_dir = path.resolve().parents[1]\n",
    "files = list(ml_1m_dir.glob('**/*.dat'))\n",
    "\n",
    "users = [f for f in files if \"users.dat\" in str(f)][0]\n",
    "movies = [f for f in files if \"movies.dat\" in str(f)][0]\n",
    "ratings = [f for f in files if \"ratings.dat\" in str(f)][0]\n",
    "\n",
    "users = pd.read_csv(str(users),sep=\"::\", header=None, names=[\"user_id\", \"gender\", \"age\", \"occupation\", \"zip\"], engine='python')\n",
    "movies = pd.read_csv(str(movies),sep=\"::\", header=None, names=[\"movie_id\", \"title\", \"genres\"], engine='python')\n",
    "ratings = pd.read_csv(str(ratings),sep=\"::\", header=None, names=[\"user_id\", \"movie_id\", \"rating\", \"timestamp\"], engine='python')\n",
    "\n",
    "movies['genres'] = movies['genres'].apply(lambda x: x.lower().split('|'))\n",
    "users['user_id'] = users['user_id'].astype(str)\n",
    "movies['movie_id'] = movies['movie_id'].astype(str)\n",
    "ratings['movie_id'] = ratings['movie_id'].astype(str)\n",
    "ratings['user_id'] = ratings['user_id'].astype(str)\n",
    "\n",
    "print(users.shape, movies.shape, ratings.shape)\n",
    "\n",
    "user_item_affinities = list(map(lambda x: tuple([x[0], x[1], x[2]]), data.raw_ratings))\n"
   ]
  },
  {
   "cell_type": "code",
   "execution_count": 4,
   "metadata": {
    "ExecuteTime": {
     "end_time": "2019-11-09T08:27:17.880294Z",
     "start_time": "2019-11-09T08:27:17.838922Z"
    }
   },
   "outputs": [
    {
     "data": {
      "text/html": [
       "<div>\n",
       "<style scoped>\n",
       "    .dataframe tbody tr th:only-of-type {\n",
       "        vertical-align: middle;\n",
       "    }\n",
       "\n",
       "    .dataframe tbody tr th {\n",
       "        vertical-align: top;\n",
       "    }\n",
       "\n",
       "    .dataframe thead th {\n",
       "        text-align: right;\n",
       "    }\n",
       "</style>\n",
       "<table border=\"1\" class=\"dataframe\">\n",
       "  <thead>\n",
       "    <tr style=\"text-align: right;\">\n",
       "      <th></th>\n",
       "      <th>movie_id</th>\n",
       "      <th>title</th>\n",
       "      <th>genres</th>\n",
       "    </tr>\n",
       "  </thead>\n",
       "  <tbody>\n",
       "    <tr>\n",
       "      <th>0</th>\n",
       "      <td>1</td>\n",
       "      <td>Toy Story (1995)</td>\n",
       "      <td>[animation, children's, comedy]</td>\n",
       "    </tr>\n",
       "    <tr>\n",
       "      <th>1</th>\n",
       "      <td>2</td>\n",
       "      <td>Jumanji (1995)</td>\n",
       "      <td>[adventure, children's, fantasy]</td>\n",
       "    </tr>\n",
       "    <tr>\n",
       "      <th>2</th>\n",
       "      <td>3</td>\n",
       "      <td>Grumpier Old Men (1995)</td>\n",
       "      <td>[comedy, romance]</td>\n",
       "    </tr>\n",
       "  </tbody>\n",
       "</table>\n",
       "</div>"
      ],
      "text/plain": [
       "  movie_id                    title                            genres\n",
       "0        1         Toy Story (1995)   [animation, children's, comedy]\n",
       "1        2           Jumanji (1995)  [adventure, children's, fantasy]\n",
       "2        3  Grumpier Old Men (1995)                 [comedy, romance]"
      ]
     },
     "execution_count": 4,
     "metadata": {},
     "output_type": "execute_result"
    },
    {
     "data": {
      "text/html": [
       "<div>\n",
       "<style scoped>\n",
       "    .dataframe tbody tr th:only-of-type {\n",
       "        vertical-align: middle;\n",
       "    }\n",
       "\n",
       "    .dataframe tbody tr th {\n",
       "        vertical-align: top;\n",
       "    }\n",
       "\n",
       "    .dataframe thead th {\n",
       "        text-align: right;\n",
       "    }\n",
       "</style>\n",
       "<table border=\"1\" class=\"dataframe\">\n",
       "  <thead>\n",
       "    <tr style=\"text-align: right;\">\n",
       "      <th></th>\n",
       "      <th>movie_id</th>\n",
       "      <th>title</th>\n",
       "      <th>genres</th>\n",
       "      <th>year</th>\n",
       "    </tr>\n",
       "  </thead>\n",
       "  <tbody>\n",
       "    <tr>\n",
       "      <th>0</th>\n",
       "      <td>1</td>\n",
       "      <td>Toy Story</td>\n",
       "      <td>[animation, children's, comedy]</td>\n",
       "      <td>1995</td>\n",
       "    </tr>\n",
       "    <tr>\n",
       "      <th>1</th>\n",
       "      <td>2</td>\n",
       "      <td>Jumanji</td>\n",
       "      <td>[adventure, children's, fantasy]</td>\n",
       "      <td>1995</td>\n",
       "    </tr>\n",
       "    <tr>\n",
       "      <th>2</th>\n",
       "      <td>3</td>\n",
       "      <td>Grumpier Old Men</td>\n",
       "      <td>[comedy, romance]</td>\n",
       "      <td>1995</td>\n",
       "    </tr>\n",
       "  </tbody>\n",
       "</table>\n",
       "</div>"
      ],
      "text/plain": [
       "  movie_id             title                            genres  year\n",
       "0        1         Toy Story   [animation, children's, comedy]  1995\n",
       "1        2           Jumanji  [adventure, children's, fantasy]  1995\n",
       "2        3  Grumpier Old Men                 [comedy, romance]  1995"
      ]
     },
     "execution_count": 4,
     "metadata": {},
     "output_type": "execute_result"
    }
   ],
   "source": [
    "movies.head(3)\n",
    "movies['year'] = movies.title.apply(lambda x: x[-5:-1])\n",
    "movies.title = movies.title.apply(lambda x: x[:-7])\n",
    "movies.head(3)\n"
   ]
  },
  {
   "cell_type": "code",
   "execution_count": 5,
   "metadata": {
    "ExecuteTime": {
     "end_time": "2019-11-09T08:27:22.976820Z",
     "start_time": "2019-11-09T08:27:22.957153Z"
    }
   },
   "outputs": [
    {
     "data": {
      "text/plain": [
       "0"
      ]
     },
     "execution_count": 5,
     "metadata": {},
     "output_type": "execute_result"
    },
    {
     "data": {
      "text/plain": [
       "0"
      ]
     },
     "execution_count": 5,
     "metadata": {},
     "output_type": "execute_result"
    },
    {
     "data": {
      "text/plain": [
       "0"
      ]
     },
     "execution_count": 5,
     "metadata": {},
     "output_type": "execute_result"
    },
    {
     "data": {
      "text/plain": [
       "0"
      ]
     },
     "execution_count": 5,
     "metadata": {},
     "output_type": "execute_result"
    }
   ],
   "source": [
    "np.sum(movies.title.isna())\n",
    "np.sum(movies.year.isna())\n",
    "np.sum(movies.title.apply(len)==0)\n",
    "np.sum(movies.year.apply(len)==0)"
   ]
  },
  {
   "cell_type": "code",
   "execution_count": 202,
   "metadata": {
    "ExecuteTime": {
     "end_time": "2019-11-09T05:41:50.813836Z",
     "start_time": "2019-11-09T05:41:46.827431Z"
    }
   },
   "outputs": [],
   "source": [
    "users.to_csv(\"users.csv\", sep=\"\\t\", index=False)\n",
    "ratings.to_csv(\"ratings.csv\", sep=\"\\t\", index=False)"
   ]
  },
  {
   "cell_type": "markdown",
   "metadata": {},
   "source": [
    "## Enhancing item features with TMDB"
   ]
  },
  {
   "cell_type": "code",
   "execution_count": 14,
   "metadata": {
    "ExecuteTime": {
     "end_time": "2019-11-09T08:32:35.515354Z",
     "start_time": "2019-11-09T08:32:35.508858Z"
    }
   },
   "outputs": [],
   "source": [
    "import re\n",
    "\n",
    "def clean_text(text):\n",
    "    EMPTY = ' '\n",
    "    if text is None:\n",
    "        return EMPTY\n",
    "    \n",
    "    text = text.replace(\"\\n\", \" \").replace(\"(\", \" \").replace(\")\", \" \").replace(\"\\r\", \" \").replace(\"\\t\", \" \").lower()\n",
    "    text = re.sub('<pre><code>.*?</code></pre>', EMPTY, text)\n",
    "    text = re.sub('<code>.*?</code>', EMPTY, text)\n",
    "\n",
    "    def replace_link(match):\n",
    "        return EMPTY if re.match('[a-z]+://', match.group(1)) else match.group(1)\n",
    "\n",
    "    text = re.sub('<a[^>]+>(.*)</a>', replace_link, text)\n",
    "    text = re.sub('<.*?>', EMPTY, text)\n",
    "    return text"
   ]
  },
  {
   "cell_type": "code",
   "execution_count": 23,
   "metadata": {
    "ExecuteTime": {
     "end_time": "2019-11-09T08:41:09.388063Z",
     "start_time": "2019-11-09T08:41:09.370712Z"
    }
   },
   "outputs": [],
   "source": [
    "def get_movie_details_from_tmdb(movie_id, title, year):\n",
    "    year = int(year)\n",
    "    \n",
    "    search = tmdb.Search()\n",
    "    response = search.movie(query=title)\n",
    "    results = response['results']\n",
    "    \n",
    "    if len(results) == 0:\n",
    "        tn = title.split(\",\")[0]\n",
    "        search = tmdb.Search()\n",
    "        response = search.movie(query=tn)\n",
    "        results = response['results']\n",
    "        \n",
    "    if len(results) == 0:\n",
    "        tn = title.split(\":\")[0]\n",
    "        search = tmdb.Search()\n",
    "        response = search.movie(query=tn)\n",
    "        results = response['results']\n",
    "        \n",
    "    if len(results) == 0:\n",
    "        tn = title.split(\"(\")[0]\n",
    "        search = tmdb.Search()\n",
    "        response = search.movie(query=tn)\n",
    "        results = response['results']\n",
    "    \n",
    "    \n",
    "    \n",
    "    from functools import cmp_to_key\n",
    "    def cmp(m1, m2):\n",
    "        edst_1 = editdistance(title.lower(), m1['title'].lower())\n",
    "        edst_2 = editdistance(title.lower(), m2['title'].lower())\n",
    "        if 'release_date' not in m1:\n",
    "            return 1\n",
    "        if 'release_date' not in m2:\n",
    "            return -1\n",
    "        year_diff_1 = np.abs(pd.to_datetime(m1['release_date']).year - year)\n",
    "        year_diff_2 = np.abs(pd.to_datetime(m2['release_date']).year - year)\n",
    "        score_1 = 0.3 * edst_1 + year_diff_1\n",
    "        score_2 = 0.3 * edst_2 + year_diff_2\n",
    "        return -1 if score_1 <= score_2 else 1\n",
    "    results = list(sorted(results, key=cmp_to_key(cmp)))\n",
    "    if len(results) > 0:\n",
    "        movie = tmdb.Movies(results[0]['id'])\n",
    "        keywords = [k['name'] for k in movie.keywords()['keywords']]\n",
    "        info = movie.info()\n",
    "        original_language = info['original_language']\n",
    "        overview = clean_text(info['overview'])\n",
    "        runtime = info['runtime']\n",
    "        tagline = clean_text(info['tagline'])\n",
    "        original_title = info['original_title']\n",
    "        title = info['title']\n",
    "        release_date = info['release_date']\n",
    "        return {\"movie_id\":movie_id,\"title\":title, \"keywords\":keywords, \"original_language\":original_language, \n",
    "                \"overview\":overview, \"runtime\":runtime, \"tagline\":tagline, \n",
    "                'original_title':original_title, \"release_date\":release_date,\n",
    "               \"success\":True}\n",
    "    else:\n",
    "        return {\"movie_id\":movie_id,\"title\":title, \"keywords\":[], \"original_language\":'', \n",
    "                \"overview\":'', \"runtime\":-1, \"tagline\":'', \n",
    "                'original_title':'',\"release_date\":str(year), \n",
    "                \"success\":False}\n",
    "    \n"
   ]
  },
  {
   "cell_type": "code",
   "execution_count": 24,
   "metadata": {
    "ExecuteTime": {
     "end_time": "2019-11-09T08:41:14.793311Z",
     "start_time": "2019-11-09T08:41:11.304623Z"
    }
   },
   "outputs": [
    {
     "data": {
      "text/plain": [
       "{'movie_id': 100,\n",
       " 'title': 'Toy Story',\n",
       " 'keywords': ['martial arts',\n",
       "  'jealousy',\n",
       "  'toy',\n",
       "  'boy',\n",
       "  'friendship',\n",
       "  'bullying',\n",
       "  'elementary school',\n",
       "  'friends',\n",
       "  'rivalry',\n",
       "  'rescue',\n",
       "  'mission',\n",
       "  'walkie talkie',\n",
       "  'boy next door',\n",
       "  'new toy',\n",
       "  'neighborhood',\n",
       "  'toy comes to life',\n",
       "  'resourcefulness'],\n",
       " 'original_language': 'en',\n",
       " 'overview': \"led by woody, andy's toys live happily in his room until andy's birthday brings buzz lightyear onto the scene. afraid of losing his place in andy's heart, woody plots against buzz. but when circumstances separate buzz and woody from their owner, the duo eventually learns to put aside their differences.\",\n",
       " 'runtime': 81,\n",
       " 'tagline': '',\n",
       " 'original_title': 'Toy Story',\n",
       " 'release_date': '1995-10-30',\n",
       " 'success': True}"
      ]
     },
     "execution_count": 24,
     "metadata": {},
     "output_type": "execute_result"
    }
   ],
   "source": [
    "get_movie_details_from_tmdb(movie_id=100,title=\"Toy Story\", year=1995)"
   ]
  },
  {
   "cell_type": "code",
   "execution_count": 108,
   "metadata": {
    "ExecuteTime": {
     "end_time": "2019-11-09T08:26:13.400988Z",
     "start_time": "2019-11-09T08:26:02.416758Z"
    }
   },
   "outputs": [
    {
     "data": {
      "text/plain": [
       "0    Led by Woody, Andy's toys live happily in his ...\n",
       "1    When siblings Judy and Peter discover an encha...\n",
       "2    A family wedding reignites the ancient feud be...\n",
       "dtype: object"
      ]
     },
     "execution_count": 108,
     "metadata": {},
     "output_type": "execute_result"
    }
   ],
   "source": [
    "movies.head(3).apply(lambda m:get_movie_details_from_tmdb(m['title'],m['year'])['overview'], axis=1)"
   ]
  },
  {
   "cell_type": "code",
   "execution_count": null,
   "metadata": {},
   "outputs": [],
   "source": [
    "tmdb_data = {}\n"
   ]
  },
  {
   "cell_type": "code",
   "execution_count": 29,
   "metadata": {
    "ExecuteTime": {
     "end_time": "2019-11-10T12:01:48.229403Z",
     "start_time": "2019-11-10T10:36:54.985297Z"
    }
   },
   "outputs": [
    {
     "data": {
      "application/vnd.jupyter.widget-view+json": {
       "model_id": "5e0baf07bd0b4bc28f338e6bd8d87da3",
       "version_major": 2,
       "version_minor": 0
      },
      "text/plain": [
       "HBox(children=(IntProgress(value=0, max=3883), HTML(value='')))"
      ]
     },
     "metadata": {},
     "output_type": "display_data"
    },
    {
     "name": "stdout",
     "output_type": "stream",
     "text": [
      "\n"
     ]
    }
   ],
   "source": [
    "\n",
    "titles_years = list(zip(movies['movie_id'], movies['title'],movies['year']))\n",
    "# overviews = Parallel(n_jobs=8)(delayed(get_movie_details_from_tmdb)(title,year) for title,year in tqdm_notebook(titles_years))\n",
    "\n",
    "\n",
    "for movie_id,title,year in tqdm_notebook(titles_years):\n",
    "    if movie_id in tmdb_data:\n",
    "        continue\n",
    "    movie_detail = get_movie_details_from_tmdb(movie_id=movie_id, title=title, year=year)\n",
    "    tmdb_data[movie_id] = movie_detail\n",
    "\n",
    "\n"
   ]
  },
  {
   "cell_type": "code",
   "execution_count": 34,
   "metadata": {
    "ExecuteTime": {
     "end_time": "2019-11-10T17:25:51.922206Z",
     "start_time": "2019-11-10T17:25:51.915470Z"
    }
   },
   "outputs": [
    {
     "data": {
      "text/plain": [
       "30"
      ]
     },
     "execution_count": 34,
     "metadata": {},
     "output_type": "execute_result"
    }
   ],
   "source": [
    "unsuccessful =[k for k,v in tmdb_data.items() if not v['success']]\n",
    "len(unsuccessful)\n"
   ]
  },
  {
   "cell_type": "code",
   "execution_count": 76,
   "metadata": {
    "ExecuteTime": {
     "end_time": "2019-11-10T17:48:18.971226Z",
     "start_time": "2019-11-10T17:48:18.952107Z"
    }
   },
   "outputs": [
    {
     "data": {
      "text/html": [
       "<div>\n",
       "<style scoped>\n",
       "    .dataframe tbody tr th:only-of-type {\n",
       "        vertical-align: middle;\n",
       "    }\n",
       "\n",
       "    .dataframe tbody tr th {\n",
       "        vertical-align: top;\n",
       "    }\n",
       "\n",
       "    .dataframe thead th {\n",
       "        text-align: right;\n",
       "    }\n",
       "</style>\n",
       "<table border=\"1\" class=\"dataframe\">\n",
       "  <thead>\n",
       "    <tr style=\"text-align: right;\">\n",
       "      <th></th>\n",
       "      <th>movie_id</th>\n",
       "      <th>title</th>\n",
       "      <th>genres</th>\n",
       "      <th>year</th>\n",
       "    </tr>\n",
       "  </thead>\n",
       "  <tbody>\n",
       "    <tr>\n",
       "      <th>3508</th>\n",
       "      <td>3577</td>\n",
       "      <td>Two Moon Juction</td>\n",
       "      <td>[drama]</td>\n",
       "      <td>1988</td>\n",
       "    </tr>\n",
       "    <tr>\n",
       "      <th>3693</th>\n",
       "      <td>3762</td>\n",
       "      <td>Daughter of Dr. Jeckyll</td>\n",
       "      <td>[horror]</td>\n",
       "      <td>1957</td>\n",
       "    </tr>\n",
       "    <tr>\n",
       "      <th>3730</th>\n",
       "      <td>3799</td>\n",
       "      <td>Pok�mon the Movie 2000</td>\n",
       "      <td>[animation, children's]</td>\n",
       "      <td>2000</td>\n",
       "    </tr>\n",
       "    <tr>\n",
       "      <th>3780</th>\n",
       "      <td>3850</td>\n",
       "      <td>Whatever Happened to Aunt Alice?</td>\n",
       "      <td>[crime, thriller]</td>\n",
       "      <td>1969</td>\n",
       "    </tr>\n",
       "    <tr>\n",
       "      <th>3784</th>\n",
       "      <td>3854</td>\n",
       "      <td>Aim�e &amp; Jaguar</td>\n",
       "      <td>[drama, romance]</td>\n",
       "      <td>1999</td>\n",
       "    </tr>\n",
       "  </tbody>\n",
       "</table>\n",
       "</div>"
      ],
      "text/plain": [
       "     movie_id                             title                   genres  year\n",
       "3508     3577                  Two Moon Juction                  [drama]  1988\n",
       "3693     3762           Daughter of Dr. Jeckyll                 [horror]  1957\n",
       "3730     3799            Pok�mon the Movie 2000  [animation, children's]  2000\n",
       "3780     3850  Whatever Happened to Aunt Alice?        [crime, thriller]  1969\n",
       "3784     3854                    Aim�e & Jaguar         [drama, romance]  1999"
      ]
     },
     "execution_count": 76,
     "metadata": {},
     "output_type": "execute_result"
    }
   ],
   "source": [
    "movies[movies.movie_id.isin(unsuccessful)].head(30).tail(5)"
   ]
  },
  {
   "cell_type": "code",
   "execution_count": 75,
   "metadata": {
    "ExecuteTime": {
     "end_time": "2019-11-10T17:48:11.779494Z",
     "start_time": "2019-11-10T17:48:05.808212Z"
    }
   },
   "outputs": [
    {
     "data": {
      "text/plain": [
       "{'movie_id': '3854',\n",
       " 'title': 'Aimee & Jaguar',\n",
       " 'keywords': ['berlin germany',\n",
       "  'world war ii',\n",
       "  'jew',\n",
       "  'forbidden love',\n",
       "  'lesbian relationship',\n",
       "  'homosexuality',\n",
       "  'nazi germany',\n",
       "  'lesbian interest'],\n",
       " 'original_language': 'de',\n",
       " 'overview': 'in 1943, while the allies are bombing berlin and the gestapo is purging the capital of jews, a dangerous love affair blossoms between two women - one a jewish member of the underground, the other an exemplar of nazi motherhood.',\n",
       " 'runtime': 125,\n",
       " 'tagline': 'bound by desire. torn apart by war.',\n",
       " 'original_title': 'Aimee & Jaguar',\n",
       " 'release_date': '1999-02-10',\n",
       " 'success': True}"
      ]
     },
     "execution_count": 75,
     "metadata": {},
     "output_type": "execute_result"
    }
   ],
   "source": [
    "movie_id = \"3854\"\n",
    "movie_detail = get_movie_details_from_tmdb(movie_id=movie_id, title=\"Jaguar\", year=1999)\n",
    "movie_detail\n",
    "if movie_detail[\"success\"]:\n",
    "    tmdb_data[movie_id] = movie_detail\n",
    "else:\n",
    "    print(\"Fail\")\n"
   ]
  },
  {
   "cell_type": "code",
   "execution_count": 77,
   "metadata": {
    "ExecuteTime": {
     "end_time": "2019-11-10T17:48:30.920417Z",
     "start_time": "2019-11-10T17:48:30.913967Z"
    }
   },
   "outputs": [
    {
     "data": {
      "text/plain": [
       "12"
      ]
     },
     "execution_count": 77,
     "metadata": {},
     "output_type": "execute_result"
    }
   ],
   "source": [
    "unsuccessful =[k for k,v in tmdb_data.items() if not v['success']]\n",
    "len(unsuccessful)\n"
   ]
  },
  {
   "cell_type": "code",
   "execution_count": 83,
   "metadata": {
    "ExecuteTime": {
     "end_time": "2019-11-10T17:57:16.958750Z",
     "start_time": "2019-11-10T17:57:16.830543Z"
    }
   },
   "outputs": [
    {
     "data": {
      "text/plain": [
       "(3883, 9)"
      ]
     },
     "execution_count": 83,
     "metadata": {},
     "output_type": "execute_result"
    }
   ],
   "source": [
    "tmdb_df = pd.DataFrame.from_records(list(tmdb_data.values()))\n",
    "tmdb_df.drop(columns=[\"success\"], inplace=True)\n",
    "tmdb_df.shape\n",
    "assert tmdb_df.shape[0] == len(list(tmdb_data.values()))\n",
    "\n",
    "tmdb_df.to_csv(\"tmdb_data.csv\", sep=\"\\t\", index=False)\n"
   ]
  },
  {
   "cell_type": "code",
   "execution_count": 85,
   "metadata": {
    "ExecuteTime": {
     "end_time": "2019-11-10T17:59:18.832860Z",
     "start_time": "2019-11-10T17:59:18.809206Z"
    }
   },
   "outputs": [
    {
     "data": {
      "text/plain": [
       "(3883, 4)"
      ]
     },
     "execution_count": 85,
     "metadata": {},
     "output_type": "execute_result"
    },
    {
     "data": {
      "text/plain": [
       "(3883, 12)"
      ]
     },
     "execution_count": 85,
     "metadata": {},
     "output_type": "execute_result"
    }
   ],
   "source": [
    "movies.shape\n",
    "tmdb_df.rename(columns={\"title\":\"tmdb_title\"}, inplace=True)\n",
    "movies = movies.merge(tmdb_df, on=\"movie_id\")\n",
    "movies.shape\n"
   ]
  },
  {
   "cell_type": "code",
   "execution_count": 87,
   "metadata": {
    "ExecuteTime": {
     "end_time": "2019-11-10T18:00:04.522753Z",
     "start_time": "2019-11-10T18:00:04.426187Z"
    }
   },
   "outputs": [],
   "source": [
    "movies.to_csv(\"movies.csv\", sep=\"\\t\", index=False)"
   ]
  },
  {
   "cell_type": "code",
   "execution_count": 94,
   "metadata": {
    "ExecuteTime": {
     "end_time": "2019-11-12T04:46:31.443899Z",
     "start_time": "2019-11-12T04:46:31.283937Z"
    }
   },
   "outputs": [
    {
     "data": {
      "text/html": [
       "<div>\n",
       "<style scoped>\n",
       "    .dataframe tbody tr th:only-of-type {\n",
       "        vertical-align: middle;\n",
       "    }\n",
       "\n",
       "    .dataframe tbody tr th {\n",
       "        vertical-align: top;\n",
       "    }\n",
       "\n",
       "    .dataframe thead th {\n",
       "        text-align: right;\n",
       "    }\n",
       "</style>\n",
       "<table border=\"1\" class=\"dataframe\">\n",
       "  <thead>\n",
       "    <tr style=\"text-align: right;\">\n",
       "      <th></th>\n",
       "      <th>movie_id</th>\n",
       "    </tr>\n",
       "    <tr>\n",
       "      <th>user_id</th>\n",
       "      <th></th>\n",
       "    </tr>\n",
       "  </thead>\n",
       "  <tbody>\n",
       "    <tr>\n",
       "      <th>1</th>\n",
       "      <td>53</td>\n",
       "    </tr>\n",
       "    <tr>\n",
       "      <th>10</th>\n",
       "      <td>401</td>\n",
       "    </tr>\n",
       "    <tr>\n",
       "      <th>100</th>\n",
       "      <td>76</td>\n",
       "    </tr>\n",
       "    <tr>\n",
       "      <th>1000</th>\n",
       "      <td>84</td>\n",
       "    </tr>\n",
       "    <tr>\n",
       "      <th>1001</th>\n",
       "      <td>377</td>\n",
       "    </tr>\n",
       "  </tbody>\n",
       "</table>\n",
       "</div>"
      ],
      "text/plain": [
       "         movie_id\n",
       "user_id          \n",
       "1              53\n",
       "10            401\n",
       "100            76\n",
       "1000           84\n",
       "1001          377"
      ]
     },
     "execution_count": 94,
     "metadata": {},
     "output_type": "execute_result"
    },
    {
     "data": {
      "text/html": [
       "<div>\n",
       "<style scoped>\n",
       "    .dataframe tbody tr th:only-of-type {\n",
       "        vertical-align: middle;\n",
       "    }\n",
       "\n",
       "    .dataframe tbody tr th {\n",
       "        vertical-align: top;\n",
       "    }\n",
       "\n",
       "    .dataframe thead th {\n",
       "        text-align: right;\n",
       "    }\n",
       "</style>\n",
       "<table border=\"1\" class=\"dataframe\">\n",
       "  <thead>\n",
       "    <tr style=\"text-align: right;\">\n",
       "      <th></th>\n",
       "      <th>movie_id</th>\n",
       "    </tr>\n",
       "    <tr>\n",
       "      <th>user_id</th>\n",
       "      <th></th>\n",
       "    </tr>\n",
       "  </thead>\n",
       "  <tbody>\n",
       "    <tr>\n",
       "      <th>5145</th>\n",
       "      <td>20</td>\n",
       "    </tr>\n",
       "    <tr>\n",
       "      <th>2381</th>\n",
       "      <td>20</td>\n",
       "    </tr>\n",
       "    <tr>\n",
       "      <th>4178</th>\n",
       "      <td>20</td>\n",
       "    </tr>\n",
       "    <tr>\n",
       "      <th>4192</th>\n",
       "      <td>20</td>\n",
       "    </tr>\n",
       "    <tr>\n",
       "      <th>421</th>\n",
       "      <td>20</td>\n",
       "    </tr>\n",
       "    <tr>\n",
       "      <th>...</th>\n",
       "      <td>...</td>\n",
       "    </tr>\n",
       "    <tr>\n",
       "      <th>5899</th>\n",
       "      <td>21</td>\n",
       "    </tr>\n",
       "    <tr>\n",
       "      <th>5052</th>\n",
       "      <td>21</td>\n",
       "    </tr>\n",
       "    <tr>\n",
       "      <th>653</th>\n",
       "      <td>21</td>\n",
       "    </tr>\n",
       "    <tr>\n",
       "      <th>5116</th>\n",
       "      <td>21</td>\n",
       "    </tr>\n",
       "    <tr>\n",
       "      <th>5117</th>\n",
       "      <td>21</td>\n",
       "    </tr>\n",
       "  </tbody>\n",
       "</table>\n",
       "<p>100 rows × 1 columns</p>\n",
       "</div>"
      ],
      "text/plain": [
       "         movie_id\n",
       "user_id          \n",
       "5145           20\n",
       "2381           20\n",
       "4178           20\n",
       "4192           20\n",
       "421            20\n",
       "...           ...\n",
       "5899           21\n",
       "5052           21\n",
       "653            21\n",
       "5116           21\n",
       "5117           21\n",
       "\n",
       "[100 rows x 1 columns]"
      ]
     },
     "execution_count": 94,
     "metadata": {},
     "output_type": "execute_result"
    }
   ],
   "source": [
    "\n",
    "user_movie_counts = ratings.groupby([\"user_id\"])[[\"movie_id\"]].count()\n",
    "user_movie_counts.head()\n",
    "\n",
    "user_movie_counts.sort_values(by=[\"movie_id\"]).head(100)"
   ]
  },
  {
   "cell_type": "code",
   "execution_count": 5,
   "metadata": {
    "ExecuteTime": {
     "end_time": "2019-11-09T05:50:18.245987Z",
     "start_time": "2019-11-09T05:50:17.925462Z"
    }
   },
   "outputs": [],
   "source": [
    "movies = pd.read_csv(\"movies.csv\", sep=\"\\t\", engine=\"python\")\n",
    "users = pd.read_csv(\"users.csv\", sep=\"\\t\")\n",
    "ratings = pd.read_csv(\"ratings.csv\", sep=\"\\t\")\n",
    "\n",
    "\n"
   ]
  }
 ],
 "metadata": {
  "kernelspec": {
   "display_name": "Python [conda env:hybrid-recsys] *",
   "language": "python",
   "name": "conda-env-hybrid-recsys-py"
  },
  "language_info": {
   "codemirror_mode": {
    "name": "ipython",
    "version": 3
   },
   "file_extension": ".py",
   "mimetype": "text/x-python",
   "name": "python",
   "nbconvert_exporter": "python",
   "pygments_lexer": "ipython3",
   "version": "3.7.4"
  },
  "toc": {
   "base_numbering": 1,
   "nav_menu": {},
   "number_sections": true,
   "sideBar": true,
   "skip_h1_title": false,
   "title_cell": "Table of Contents",
   "title_sidebar": "Contents",
   "toc_cell": false,
   "toc_position": {},
   "toc_section_display": true,
   "toc_window_display": false
  }
 },
 "nbformat": 4,
 "nbformat_minor": 2
}
