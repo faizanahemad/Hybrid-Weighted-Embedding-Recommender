{
 "cells": [
  {
   "cell_type": "code",
   "execution_count": 2,
   "metadata": {
    "ExecuteTime": {
     "end_time": "2019-11-07T16:36:31.182279Z",
     "start_time": "2019-11-07T16:36:31.168497Z"
    }
   },
   "outputs": [],
   "source": [
    "from IPython.core.interactiveshell import InteractiveShell\n",
    "from IPython.display import display, HTML\n",
    "InteractiveShell.ast_node_interactivity = \"all\"\n",
    "%config InlineBackend.figure_format='retina'\n",
    "\n",
    "import warnings\n",
    "warnings.filterwarnings('ignore')"
   ]
  },
  {
   "cell_type": "code",
   "execution_count": 1,
   "metadata": {
    "ExecuteTime": {
     "end_time": "2019-11-07T16:36:28.909851Z",
     "start_time": "2019-11-07T16:36:28.777597Z"
    }
   },
   "outputs": [],
   "source": [
    "import tmdbsimple as tmdb\n",
    "tmdb.API_KEY = '08d3df3441c114a6cdb87682cb5b8013'\n",
    "\n",
    "from editdistance import eval as editdistance"
   ]
  },
  {
   "cell_type": "code",
   "execution_count": 3,
   "metadata": {
    "ExecuteTime": {
     "end_time": "2019-11-07T16:36:45.357622Z",
     "start_time": "2019-11-07T16:36:32.855584Z"
    }
   },
   "outputs": [
    {
     "name": "stdout",
     "output_type": "stream",
     "text": [
      "/Users/ahemf/.surprise_data/ml-1m/ml-1m/ratings.dat\n",
      "(6040, 5) (3883, 3) (1000209, 4)\n"
     ]
    }
   ],
   "source": [
    "from surprise import Dataset\n",
    "from surprise import accuracy\n",
    "import numpy as np\n",
    "import time\n",
    "import pandas as pd\n",
    "from pathlib import Path\n",
    "from surprise.model_selection import train_test_split\n",
    "data = Dataset.load_builtin('ml-1m')\n",
    "trainset, testset = train_test_split(data, test_size=.25)\n",
    "from tqdm import tqdm,tqdm_notebook\n",
    "from joblib import Parallel, delayed\n",
    "print(data.ratings_file)\n",
    "\n",
    "path = Path(data.ratings_file)\n",
    "ml_1m_dir = path.resolve().parents[1]\n",
    "files = list(ml_1m_dir.glob('**/*.dat'))\n",
    "\n",
    "users = [f for f in files if \"users.dat\" in str(f)][0]\n",
    "movies = [f for f in files if \"movies.dat\" in str(f)][0]\n",
    "ratings = [f for f in files if \"ratings.dat\" in str(f)][0]\n",
    "\n",
    "users = pd.read_csv(str(users),sep=\"::\", header=None, names=[\"user_id\", \"gender\", \"age\", \"occupation\", \"zip\"], engine='python')\n",
    "movies = pd.read_csv(str(movies),sep=\"::\", header=None, names=[\"movie_id\", \"title\", \"genres\"], engine='python')\n",
    "ratings = pd.read_csv(str(ratings),sep=\"::\", header=None, names=[\"user_id\", \"movie_id\", \"rating\", \"timestamp\"], engine='python')\n",
    "\n",
    "movies['genres'] = movies['genres'].apply(lambda x: x.lower().split('|'))\n",
    "users['user_id'] = users['user_id'].astype(str)\n",
    "movies['movie_id'] = movies['movie_id'].astype(str)\n",
    "ratings['movie_id'] = ratings['movie_id'].astype(str)\n",
    "ratings['user_id'] = ratings['user_id'].astype(str)\n",
    "# CountVectorizer and make 1 column for each genre\n",
    "\n",
    "print(users.shape, movies.shape, ratings.shape)\n",
    "\n",
    "user_item_affinities = list(map(lambda x: tuple([x[0], x[1], x[2]]), data.raw_ratings))\n"
   ]
  },
  {
   "cell_type": "code",
   "execution_count": 4,
   "metadata": {
    "ExecuteTime": {
     "end_time": "2019-11-07T16:36:45.404614Z",
     "start_time": "2019-11-07T16:36:45.359614Z"
    }
   },
   "outputs": [
    {
     "data": {
      "text/html": [
       "<div>\n",
       "<style scoped>\n",
       "    .dataframe tbody tr th:only-of-type {\n",
       "        vertical-align: middle;\n",
       "    }\n",
       "\n",
       "    .dataframe tbody tr th {\n",
       "        vertical-align: top;\n",
       "    }\n",
       "\n",
       "    .dataframe thead th {\n",
       "        text-align: right;\n",
       "    }\n",
       "</style>\n",
       "<table border=\"1\" class=\"dataframe\">\n",
       "  <thead>\n",
       "    <tr style=\"text-align: right;\">\n",
       "      <th></th>\n",
       "      <th>movie_id</th>\n",
       "      <th>title</th>\n",
       "      <th>genres</th>\n",
       "    </tr>\n",
       "  </thead>\n",
       "  <tbody>\n",
       "    <tr>\n",
       "      <th>0</th>\n",
       "      <td>1</td>\n",
       "      <td>Toy Story (1995)</td>\n",
       "      <td>[animation, children's, comedy]</td>\n",
       "    </tr>\n",
       "    <tr>\n",
       "      <th>1</th>\n",
       "      <td>2</td>\n",
       "      <td>Jumanji (1995)</td>\n",
       "      <td>[adventure, children's, fantasy]</td>\n",
       "    </tr>\n",
       "    <tr>\n",
       "      <th>2</th>\n",
       "      <td>3</td>\n",
       "      <td>Grumpier Old Men (1995)</td>\n",
       "      <td>[comedy, romance]</td>\n",
       "    </tr>\n",
       "  </tbody>\n",
       "</table>\n",
       "</div>"
      ],
      "text/plain": [
       "  movie_id                    title                            genres\n",
       "0        1         Toy Story (1995)   [animation, children's, comedy]\n",
       "1        2           Jumanji (1995)  [adventure, children's, fantasy]\n",
       "2        3  Grumpier Old Men (1995)                 [comedy, romance]"
      ]
     },
     "execution_count": 4,
     "metadata": {},
     "output_type": "execute_result"
    },
    {
     "data": {
      "text/html": [
       "<div>\n",
       "<style scoped>\n",
       "    .dataframe tbody tr th:only-of-type {\n",
       "        vertical-align: middle;\n",
       "    }\n",
       "\n",
       "    .dataframe tbody tr th {\n",
       "        vertical-align: top;\n",
       "    }\n",
       "\n",
       "    .dataframe thead th {\n",
       "        text-align: right;\n",
       "    }\n",
       "</style>\n",
       "<table border=\"1\" class=\"dataframe\">\n",
       "  <thead>\n",
       "    <tr style=\"text-align: right;\">\n",
       "      <th></th>\n",
       "      <th>movie_id</th>\n",
       "      <th>title</th>\n",
       "      <th>genres</th>\n",
       "      <th>year</th>\n",
       "    </tr>\n",
       "  </thead>\n",
       "  <tbody>\n",
       "    <tr>\n",
       "      <th>0</th>\n",
       "      <td>1</td>\n",
       "      <td>Toy Story</td>\n",
       "      <td>[animation, children's, comedy]</td>\n",
       "      <td>1995</td>\n",
       "    </tr>\n",
       "    <tr>\n",
       "      <th>1</th>\n",
       "      <td>2</td>\n",
       "      <td>Jumanji</td>\n",
       "      <td>[adventure, children's, fantasy]</td>\n",
       "      <td>1995</td>\n",
       "    </tr>\n",
       "    <tr>\n",
       "      <th>2</th>\n",
       "      <td>3</td>\n",
       "      <td>Grumpier Old Men</td>\n",
       "      <td>[comedy, romance]</td>\n",
       "      <td>1995</td>\n",
       "    </tr>\n",
       "  </tbody>\n",
       "</table>\n",
       "</div>"
      ],
      "text/plain": [
       "  movie_id             title                            genres  year\n",
       "0        1         Toy Story   [animation, children's, comedy]  1995\n",
       "1        2           Jumanji  [adventure, children's, fantasy]  1995\n",
       "2        3  Grumpier Old Men                 [comedy, romance]  1995"
      ]
     },
     "execution_count": 4,
     "metadata": {},
     "output_type": "execute_result"
    }
   ],
   "source": [
    "movies.head(3)\n",
    "movies['year'] = movies.title.apply(lambda x: x[-5:-1])\n",
    "movies.title = movies.title.apply(lambda x: x[:-7])\n",
    "movies.head(3)\n"
   ]
  },
  {
   "cell_type": "code",
   "execution_count": 5,
   "metadata": {
    "ExecuteTime": {
     "end_time": "2019-11-07T16:36:47.789403Z",
     "start_time": "2019-11-07T16:36:47.768558Z"
    }
   },
   "outputs": [
    {
     "data": {
      "text/plain": [
       "0"
      ]
     },
     "execution_count": 5,
     "metadata": {},
     "output_type": "execute_result"
    },
    {
     "data": {
      "text/plain": [
       "0"
      ]
     },
     "execution_count": 5,
     "metadata": {},
     "output_type": "execute_result"
    },
    {
     "data": {
      "text/plain": [
       "0"
      ]
     },
     "execution_count": 5,
     "metadata": {},
     "output_type": "execute_result"
    },
    {
     "data": {
      "text/plain": [
       "0"
      ]
     },
     "execution_count": 5,
     "metadata": {},
     "output_type": "execute_result"
    }
   ],
   "source": [
    "np.sum(movies.title.isna())\n",
    "np.sum(movies.year.isna())\n",
    "np.sum(movies.title.apply(len)==0)\n",
    "np.sum(movies.year.apply(len)==0)"
   ]
  },
  {
   "cell_type": "code",
   "execution_count": 30,
   "metadata": {
    "ExecuteTime": {
     "end_time": "2019-11-07T16:55:32.775898Z",
     "start_time": "2019-11-07T16:55:32.763697Z"
    }
   },
   "outputs": [],
   "source": [
    "def get_movie_details_from_tmdb(title, year):\n",
    "    year = int(year)\n",
    "    search = tmdb.Search()\n",
    "    response = search.movie(query=title)\n",
    "    # title edit distance and year\n",
    "    results = response['results']\n",
    "    from functools import cmp_to_key\n",
    "    def cmp(m1, m2):\n",
    "        edst_1 = editdistance(title, m1['title'])\n",
    "        edst_2 = editdistance(title, m1['title'])\n",
    "        if 'release_date' not in m1:\n",
    "            return 1\n",
    "        if 'release_date' not in m2:\n",
    "            return -1\n",
    "        year_diff_1 = np.abs(pd.to_datetime(m1['release_date']).year - year)\n",
    "        year_diff_2 = np.abs(pd.to_datetime(m2['release_date']).year - year)\n",
    "        score_1 = 0.2 * edst_1 + year_diff_1\n",
    "        score_2 = 0.2 * edst_2 + year_diff_2\n",
    "        return -1 if score_1 <= score_2 else 1\n",
    "    results = list(sorted(results, key=cmp_to_key(cmp)))\n",
    "    result = results[0] if len(results) > 0 else {'overview':''}\n",
    "    return result\n"
   ]
  },
  {
   "cell_type": "code",
   "execution_count": 31,
   "metadata": {
    "ExecuteTime": {
     "end_time": "2019-11-07T16:55:33.382979Z",
     "start_time": "2019-11-07T16:55:33.378971Z"
    }
   },
   "outputs": [],
   "source": [
    "def slow_api_calls(title, year):\n",
    "    time.sleep(0.1)\n",
    "    return get_movie_details_from_tmdb(title, year)"
   ]
  },
  {
   "cell_type": "code",
   "execution_count": 34,
   "metadata": {
    "ExecuteTime": {
     "end_time": "2019-11-07T16:58:42.241370Z",
     "start_time": "2019-11-07T16:58:40.808053Z"
    }
   },
   "outputs": [
    {
     "data": {
      "text/plain": [
       "{'popularity': 35,\n",
       " 'vote_count': 11214,\n",
       " 'video': False,\n",
       " 'poster_path': '/rhIRbceoE9lR4veEXuwCC2wARtG.jpg',\n",
       " 'id': 862,\n",
       " 'adult': False,\n",
       " 'backdrop_path': '/dji4Fm0gCDVb9DQQMRvAI8YNnTz.jpg',\n",
       " 'original_language': 'en',\n",
       " 'original_title': 'Toy Story',\n",
       " 'genre_ids': [16, 35, 10751],\n",
       " 'title': 'Toy Story',\n",
       " 'vote_average': 7.9,\n",
       " 'overview': \"Led by Woody, Andy's toys live happily in his room until Andy's birthday brings Buzz Lightyear onto the scene. Afraid of losing his place in Andy's heart, Woody plots against Buzz. But when circumstances separate Buzz and Woody from their owner, the duo eventually learns to put aside their differences.\",\n",
       " 'release_date': '1995-11-22'}"
      ]
     },
     "execution_count": 34,
     "metadata": {},
     "output_type": "execute_result"
    }
   ],
   "source": [
    "slow_api_calls(title=\"Toy Story\", year=1995)"
   ]
  },
  {
   "cell_type": "code",
   "execution_count": null,
   "metadata": {
    "ExecuteTime": {
     "end_time": "2019-11-07T16:37:07.769808Z",
     "start_time": "2019-11-07T16:37:03.944137Z"
    }
   },
   "outputs": [],
   "source": [
    "movies.head(3).apply(lambda m:get_movie_details_from_tmdb(m['title'],m['year'])['overview'], axis=1)"
   ]
  },
  {
   "cell_type": "code",
   "execution_count": null,
   "metadata": {},
   "outputs": [],
   "source": [
    "# overviews = []\n",
    "# failed = []\n",
    "# for title,year in tqdm_notebook(titles_years):\n",
    "#     ov = slow_api_calls(title=title, year=year)['overview']\n",
    "#     ov = ov.replace('\\t',' ').replace(\"\\n\", \" \").replace(\"(\", \" \").replace(\")\", \" \").replace(\"\\r\", \" \")\n",
    "#     overviews.append(ov)\n",
    "#     if len(ov) == 0:\n",
    "#         failed.append((title,year))\n",
    "    \n",
    "# print(len(failed))\n",
    "# print(failed)"
   ]
  },
  {
   "cell_type": "code",
   "execution_count": 35,
   "metadata": {
    "ExecuteTime": {
     "end_time": "2019-11-07T18:21:04.657278Z",
     "start_time": "2019-11-07T16:58:47.374014Z"
    }
   },
   "outputs": [
    {
     "data": {
      "application/vnd.jupyter.widget-view+json": {
       "model_id": "fd10e8f83ccc4acc94779d31faedee11",
       "version_major": 2,
       "version_minor": 0
      },
      "text/plain": [
       "HBox(children=(IntProgress(value=0, max=3883), HTML(value='')))"
      ]
     },
     "metadata": {},
     "output_type": "display_data"
    },
    {
     "name": "stdout",
     "output_type": "stream",
     "text": [
      "\n"
     ]
    }
   ],
   "source": [
    "\n",
    "titles_years = list(zip(movies['title'],movies['year']))\n",
    "# overviews = Parallel(n_jobs=8)(delayed(get_movie_details_from_tmdb)(title,year) for title,year in tqdm_notebook(titles_years))\n",
    "\n",
    "overviews = [get_movie_details_from_tmdb(title=title, year=year)['overview'] for title,year in tqdm_notebook(titles_years)]\n",
    "\n",
    "\n",
    "\n",
    "    \n"
   ]
  },
  {
   "cell_type": "code",
   "execution_count": 36,
   "metadata": {
    "ExecuteTime": {
     "end_time": "2019-11-07T18:22:14.413895Z",
     "start_time": "2019-11-07T18:22:14.402443Z"
    }
   },
   "outputs": [
    {
     "data": {
      "text/plain": [
       "(830, 5)"
      ]
     },
     "execution_count": 36,
     "metadata": {},
     "output_type": "execute_result"
    }
   ],
   "source": [
    "movies['overview'] = overviews\n",
    "movies[movies['overview']==''].shape"
   ]
  },
  {
   "cell_type": "code",
   "execution_count": 39,
   "metadata": {
    "ExecuteTime": {
     "end_time": "2019-11-07T18:42:39.128467Z",
     "start_time": "2019-11-07T18:25:26.952551Z"
    }
   },
   "outputs": [],
   "source": [
    "movies.loc[movies['overview']=='','overview'] = movies[movies['overview']==''].apply(lambda m:get_movie_details_from_tmdb(m['title'].split(\",\")[0],m['year'])['overview'], axis=1)\n",
    "\n",
    "\n"
   ]
  },
  {
   "cell_type": "code",
   "execution_count": 40,
   "metadata": {
    "ExecuteTime": {
     "end_time": "2019-11-07T18:49:48.299441Z",
     "start_time": "2019-11-07T18:49:48.285805Z"
    }
   },
   "outputs": [
    {
     "data": {
      "text/plain": [
       "(219, 5)"
      ]
     },
     "execution_count": 40,
     "metadata": {},
     "output_type": "execute_result"
    }
   ],
   "source": [
    "movies[movies['overview']==''].shape"
   ]
  },
  {
   "cell_type": "code",
   "execution_count": null,
   "metadata": {
    "ExecuteTime": {
     "start_time": "2019-11-07T18:52:46.249Z"
    }
   },
   "outputs": [],
   "source": [
    "movies.loc[movies['overview']=='','overview'] = movies[movies['overview']==''].apply(lambda m:get_movie_details_from_tmdb(m['title'].split(\"(\")[0],m['year'])['overview'], axis=1)\n"
   ]
  },
  {
   "cell_type": "code",
   "execution_count": null,
   "metadata": {
    "ExecuteTime": {
     "start_time": "2019-11-07T18:53:09.907Z"
    }
   },
   "outputs": [],
   "source": [
    "movies[movies['overview']==''].shape\n"
   ]
  },
  {
   "cell_type": "code",
   "execution_count": null,
   "metadata": {
    "ExecuteTime": {
     "start_time": "2019-11-07T18:53:24.128Z"
    }
   },
   "outputs": [],
   "source": [
    "movies[movies['overview']=='']"
   ]
  },
  {
   "cell_type": "code",
   "execution_count": 44,
   "metadata": {
    "ExecuteTime": {
     "end_time": "2019-11-07T18:51:41.198276Z",
     "start_time": "2019-11-07T18:51:40.113964Z"
    }
   },
   "outputs": [
    {
     "data": {
      "text/plain": [
       "{'popularity': 4.598,\n",
       " 'id': 37557,\n",
       " 'video': False,\n",
       " 'vote_count': 33,\n",
       " 'vote_average': 6.9,\n",
       " 'title': 'Shanghai Triad',\n",
       " 'release_date': '1995-12-22',\n",
       " 'original_language': 'zh',\n",
       " 'original_title': '摇啊摇，摇到外婆桥',\n",
       " 'genre_ids': [18, 80],\n",
       " 'backdrop_path': '/n78lIMVBMhZT7nMvEwxUcgGaPkh.jpg',\n",
       " 'adult': False,\n",
       " 'overview': 'Shanghai, China, 1930. When young Shuisheng arrives from the countryside, his uncle Liushu puts him at the service of Bijou, the mistress of Laoda, supreme boss of the Tang Triad, constantly threatened by his enemies, both those he knows and those lurking in the shadows.',\n",
       " 'poster_path': '/qcoOCoN7viOhboGwhYXyApdDuiq.jpg'}"
      ]
     },
     "execution_count": 44,
     "metadata": {},
     "output_type": "execute_result"
    }
   ],
   "source": [
    "slow_api_calls(title=\"Shanghai Triad \", year=1995)"
   ]
  },
  {
   "cell_type": "code",
   "execution_count": null,
   "metadata": {},
   "outputs": [],
   "source": []
  }
 ],
 "metadata": {
  "kernelspec": {
   "display_name": "Python [conda env:hybrid-recsys] *",
   "language": "python",
   "name": "conda-env-hybrid-recsys-py"
  },
  "language_info": {
   "codemirror_mode": {
    "name": "ipython",
    "version": 3
   },
   "file_extension": ".py",
   "mimetype": "text/x-python",
   "name": "python",
   "nbconvert_exporter": "python",
   "pygments_lexer": "ipython3",
   "version": "3.7.4"
  },
  "toc": {
   "base_numbering": 1,
   "nav_menu": {},
   "number_sections": true,
   "sideBar": true,
   "skip_h1_title": false,
   "title_cell": "Table of Contents",
   "title_sidebar": "Contents",
   "toc_cell": false,
   "toc_position": {},
   "toc_section_display": true,
   "toc_window_display": false
  }
 },
 "nbformat": 4,
 "nbformat_minor": 2
}
