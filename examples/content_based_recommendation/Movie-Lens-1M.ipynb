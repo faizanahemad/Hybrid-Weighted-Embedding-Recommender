{
 "cells": [
  {
   "cell_type": "code",
   "execution_count": null,
   "metadata": {
    "ExecuteTime": {
     "end_time": "2019-11-06T18:53:33.759659Z",
     "start_time": "2019-11-06T18:53:33.747493Z"
    }
   },
   "outputs": [],
   "source": [
    "from IPython.core.interactiveshell import InteractiveShell\n",
    "from IPython.display import display, HTML\n",
    "InteractiveShell.ast_node_interactivity = \"all\"\n",
    "%config InlineBackend.figure_format='retina'\n",
    "\n",
    "import warnings\n",
    "warnings.filterwarnings('ignore')"
   ]
  },
  {
   "cell_type": "code",
   "execution_count": null,
   "metadata": {
    "ExecuteTime": {
     "end_time": "2019-11-06T18:53:47.077508Z",
     "start_time": "2019-11-06T18:53:34.547266Z"
    }
   },
   "outputs": [],
   "source": [
    "from surprise import Dataset\n",
    "from surprise import accuracy\n",
    "import pandas as pd\n",
    "from pathlib import Path\n",
    "from surprise.model_selection import train_test_split\n",
    "data = Dataset.load_builtin('ml-1m')\n",
    "print(dir(data))\n",
    "trainset, testset = train_test_split(data, test_size=.25)\n",
    "\n",
    "print(data.ratings_file)\n",
    "\n",
    "path = Path(data.ratings_file)\n",
    "ml_1m_dir = path.resolve().parents[1]\n",
    "files = list(ml_1m_dir.glob('**/*.dat'))\n",
    "\n",
    "users = [f for f in files if \"users.dat\" in str(f)][0]\n",
    "movies = [f for f in files if \"movies.dat\" in str(f)][0]\n",
    "ratings = [f for f in files if \"ratings.dat\" in str(f)][0]\n",
    "\n",
    "users = pd.read_csv(str(users),sep=\"::\", header=None, names=[\"user_id\", \"gender\", \"age\", \"occupation\", \"zip\"], engine='python')\n",
    "movies = pd.read_csv(str(movies),sep=\"::\", header=None, names=[\"movie_id\", \"title\", \"genres\"], engine='python')\n",
    "ratings = pd.read_csv(str(ratings),sep=\"::\", header=None, names=[\"user_id\", \"movie_id\", \"rating\", \"timestamp\"], engine='python')\n",
    "\n",
    "movies['genres'] = movies['genres'].apply(lambda x: x.lower().split('|'))\n",
    "users['user_id'] = users['user_id'].astype(str)\n",
    "movies['movie_id'] = movies['movie_id'].astype(str)\n",
    "ratings['movie_id'] = ratings['movie_id'].astype(str)\n",
    "ratings['user_id'] = ratings['user_id'].astype(str)\n",
    "# CountVectorizer and make 1 column for each genre\n",
    "\n",
    "print(users.shape, movies.shape, ratings.shape)\n",
    "\n"
   ]
  },
  {
   "cell_type": "code",
   "execution_count": null,
   "metadata": {
    "ExecuteTime": {
     "end_time": "2019-11-06T18:53:47.527489Z",
     "start_time": "2019-11-06T18:53:47.080222Z"
    }
   },
   "outputs": [],
   "source": [
    "user_item_affinities = list(map(lambda x: tuple([x[0], x[1], x[2]]), data.raw_ratings))"
   ]
  },
  {
   "cell_type": "code",
   "execution_count": null,
   "metadata": {
    "ExecuteTime": {
     "end_time": "2019-11-06T18:53:47.570189Z",
     "start_time": "2019-11-06T18:53:47.530022Z"
    }
   },
   "outputs": [],
   "source": [
    "users.head()\n",
    "movies.head()\n",
    "ratings.head()\n",
    "\n"
   ]
  },
  {
   "cell_type": "code",
   "execution_count": null,
   "metadata": {
    "ExecuteTime": {
     "end_time": "2019-11-06T18:45:22.110956Z",
     "start_time": "2019-11-06T18:45:21.895856Z"
    }
   },
   "outputs": [],
   "source": [
    "# ratings.dtypes\n",
    "\n",
    "ratings[ratings['movie_id']=='51']\n",
    "movies[movies['movie_id']=='51']"
   ]
  },
  {
   "cell_type": "code",
   "execution_count": null,
   "metadata": {
    "ExecuteTime": {
     "end_time": "2019-11-06T18:53:54.737449Z",
     "start_time": "2019-11-06T18:53:47.573344Z"
    }
   },
   "outputs": [],
   "source": [
    "from importlib import reload\n",
    "import hwer\n",
    "reload(hwer)\n",
    "\n",
    "from hwer import MultiCategoricalEmbedding, FlairGlove100AndBytePairEmbedding, CategoricalEmbedding\n",
    "from hwer import Feature, FeatureSet, ContentRecommendation\n",
    "\n",
    "embedding_mapper = {}\n",
    "embedding_mapper['gender'] = CategoricalEmbedding(n_dims=2)\n",
    "embedding_mapper['age'] = CategoricalEmbedding(n_dims=2)\n",
    "embedding_mapper['occupation'] = CategoricalEmbedding(n_dims=2)\n",
    "embedding_mapper['zip'] = CategoricalEmbedding(n_dims=8)\n",
    "\n",
    "embedding_mapper['title'] = FlairGlove100AndBytePairEmbedding()\n",
    "embedding_mapper['genres'] = MultiCategoricalEmbedding(n_dims=16)\n",
    "\n",
    "\n",
    "recsys = ContentRecommendation(embedding_mapper=embedding_mapper, knn_params=None, n_output_dims=32)\n",
    "\n",
    "kwargs = {'user_item_affinities':user_item_affinities}\n",
    "\n",
    "u1 = Feature(feature_name=\"gender\", feature_type=\"categorical\", feature_dtype=str, values=users.gender.values)\n",
    "u2 = Feature(feature_name=\"age\", feature_type=\"categorical\", feature_dtype=str, values=users.age.astype(str).values)\n",
    "u3 = Feature(feature_name=\"occupation\", feature_type=\"categorical\", feature_dtype=str, values=users.occupation.astype(str).values)\n",
    "u4 = Feature(feature_name=\"zip\", feature_type=\"categorical\", feature_dtype=str, values=users.zip.astype(str).values)\n",
    "user_data = FeatureSet([u1, u2, u3, u4])\n",
    "\n",
    "i1 = Feature(feature_name=\"title\", feature_type=\"str\", feature_dtype=str, values=movies.title.values)\n",
    "i2 = Feature(feature_name=\"genres\", feature_type=\"multi_categorical\", feature_dtype=list, values=movies.genres.values)\n",
    "item_data = FeatureSet([i1, i2])\n",
    "\n",
    "kwargs['user_data'] = user_data\n",
    "kwargs['item_data'] = item_data\n",
    "\n"
   ]
  },
  {
   "cell_type": "code",
   "execution_count": null,
   "metadata": {
    "ExecuteTime": {
     "end_time": "2019-11-06T18:54:56.189052Z",
     "start_time": "2019-11-06T18:53:54.740441Z"
    }
   },
   "outputs": [],
   "source": [
    "recsys.fit(user_ids=users.user_id.values, item_ids=movies.movie_id.values, **kwargs)\n"
   ]
  },
  {
   "cell_type": "code",
   "execution_count": null,
   "metadata": {
    "ExecuteTime": {
     "end_time": "2019-11-06T18:58:27.200918Z",
     "start_time": "2019-11-06T18:58:27.190642Z"
    }
   },
   "outputs": [],
   "source": [
    "res,dist = zip(*recsys.find_items_for_user(user = '1', positive=[], negative=[]))\n",
    "res = res[:20]\n"
   ]
  },
  {
   "cell_type": "code",
   "execution_count": null,
   "metadata": {
    "ExecuteTime": {
     "end_time": "2019-11-06T18:58:27.965779Z",
     "start_time": "2019-11-06T18:58:27.947388Z"
    }
   },
   "outputs": [],
   "source": [
    "movies[movies.movie_id.isin(res)]"
   ]
  },
  {
   "cell_type": "code",
   "execution_count": null,
   "metadata": {
    "ExecuteTime": {
     "end_time": "2019-11-06T19:00:18.724085Z",
     "start_time": "2019-11-06T19:00:18.615461Z"
    }
   },
   "outputs": [],
   "source": [
    "movies.merge(ratings[ratings.user_id=='1'],on='movie_id')"
   ]
  },
  {
   "cell_type": "code",
   "execution_count": null,
   "metadata": {},
   "outputs": [],
   "source": []
  }
 ],
 "metadata": {
  "kernelspec": {
   "display_name": "Python [conda env:hybrid-recsys] *",
   "language": "python",
   "name": "conda-env-hybrid-recsys-py"
  },
  "language_info": {
   "codemirror_mode": {
    "name": "ipython",
    "version": 3
   },
   "file_extension": ".py",
   "mimetype": "text/x-python",
   "name": "python",
   "nbconvert_exporter": "python",
   "pygments_lexer": "ipython3",
   "version": "3.7.4"
  },
  "toc": {
   "base_numbering": 1,
   "nav_menu": {},
   "number_sections": true,
   "sideBar": true,
   "skip_h1_title": false,
   "title_cell": "Table of Contents",
   "title_sidebar": "Contents",
   "toc_cell": false,
   "toc_position": {},
   "toc_section_display": true,
   "toc_window_display": false
  }
 },
 "nbformat": 4,
 "nbformat_minor": 2
}
